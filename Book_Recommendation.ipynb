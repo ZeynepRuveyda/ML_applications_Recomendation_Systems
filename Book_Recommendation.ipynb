{
 "cells": [
  {
   "cell_type": "markdown",
   "metadata": {},
   "source": [
    "# Book Crossing Recommendation \n",
    "## Table of Contents\n",
    "<ul>\n",
    "<li><a href=\"#intro\">Introduction</a></li>\n",
    "<li><a href=\"#wrangling\">Data Wrangling</a></li>\n",
    "<li><a href=\"#eda\">Exploratory Data Analysis</a></li>\n",
    "<li><a href=\"#ml\">Applying ML Algorithms</a></li>\n",
    "<li><a href=\"#conclusion\">Conclusion</a></li>\n",
    "\n",
    "</ul>"
   ]
  },
  {
   "cell_type": "markdown",
   "metadata": {},
   "source": [
    "<a id='intro'></a>\n",
    "## Introduction"
   ]
  },
  {
   "cell_type": "markdown",
   "metadata": {},
   "source": [
    "> ### Overview\n",
    ">\n",
    "> BookCrossing is the act of releasing your books \"into the wild\" for a stranger to find, or via \"controlled release\" to another BookCrossing member, and tracking where they go via journal entries from around the world. Our community of 1,951,800 passionate, generous book-lovers is changing the world and touching lives, one traveling book at a time.\n",
    ">\n"
   ]
  },
  {
   "cell_type": "markdown",
   "metadata": {},
   "source": [
    "### Explaining Dataset"
   ]
  },
  {
   "cell_type": "markdown",
   "metadata": {},
   "source": [
    ">The BookCrossing (BX) dataset was collected by Cai-Nicolas Ziegler in a 4-week crawl (August / September 2004) from the Book-Crossing community with kind permission from Ron Hornbaker, CTO of Humankind Systems. It contains 278,858 users (anonymized but with demographic information) providing 1,149,780 ratings (explicit / implicit) about 271,379 books.\n",
    " \n",
    "> BX-Users\n",
    "Contains the users. Note that user IDs (`User-ID`) have been anonymized and map to integers. Demographic data is provided (`Location`, `Age`) if available. Otherwise, these fields contain NULL-values.\n",
    "\n",
    "> BX-Books\n",
    "Books are identified by their respective ISBN. Invalid ISBNs have already been removed from the dataset. Moreover, some content-based information is given (`Book-Title`, `Book-Author`, `Year-Of-Publication`, `Publisher`), obtained from Amazon Web Services. Note that in case of several authors, only the first is provided. URLs linking to cover images are also given, appearing in three different flavours (`Image-URL-S`, `Image-URL-M`, `Image-URL-L`), i.e., small, medium, large. These URLs point to the Amazon web site.\n",
    "\n",
    "> BX-Book-Ratings\n",
    "Contains the book rating information. Ratings (`Book-Rating`) are either explicit, expressed on a scale from 1-10 (higher values denoting higher appreciation), or implicit, expressed by 0.\n",
    "\n",
    "\n",
    ">That's what BookCrossing is all about...(from the BookCrossing Website)\n",
    "We are a community of book lovers who enjoy sharing our books with others. It's a simple process of adding a BookCrossing label to your books and then “releasing” them into the wild. And logging in here to see who finds them and where in the world they end up.\n",
    "It's fun and exciting to “follow” your books as they travel around the world and take on a life of their own. Who know where they'll go and who will find them and return here to enter the ID from your labels..."
   ]
  },
  {
   "cell_type": "markdown",
   "metadata": {},
   "source": [
    "## EDA Questions\n",
    "\n",
    ">1) What are the 10 publishers with the most entries in the books table?\n",
    "\n",
    ">2) What are the 10 authors with the most entries in the book table?\n",
    "\n",
    ">3) What are the 10 book titles with the most entries in the book table?\n",
    "\n",
    ">4) What are the 15 users with the most ratings?\n",
    "\n",
    ">5) Which books have the highest cumulative book rating values?\n",
    "\n",
    ">6) What about the highest average ratings with a minimum of at least 100 ratings received ? "
   ]
  },
  {
   "cell_type": "markdown",
   "metadata": {},
   "source": [
    "<a id='wrangling'></a>\n",
    "## Data Wrangling\n",
    "\n",
    "> After uploading the data, We will perform the clearing, deleting, editing and explore operations in this section in order to get it ready for predict. Therefore, We need some important libraries which are has been imported at below."
   ]
  },
  {
   "cell_type": "code",
   "execution_count": 83,
   "metadata": {},
   "outputs": [],
   "source": [
    "import pandas as pd\n",
    "import numpy as np\n",
    "import matplotlib.pyplot as plt\n",
    "import pickle\n",
    "import warnings\n",
    "import seaborn as sns\n",
    "import missingno as msno\n",
    "warnings.filterwarnings('ignore') # Turn off warnings\n",
    "%matplotlib inline\n",
    "from sklearn.metrics import mean_squared_error\n",
    "from math import sqrt\n",
    "from surprise import Reader, Dataset\n",
    "from sklearn import model_selection\n",
    "from surprise import SVD, NMF, model_selection, accuracy"
   ]
  },
  {
   "cell_type": "code",
   "execution_count": 2,
   "metadata": {},
   "outputs": [],
   "source": [
    "# read csv documents \n",
    "users = pd.read_csv('BX-Users.csv', sep=';',error_bad_lines=False)\n",
    "books = pd.read_csv('BX-Books.csv', sep=';',error_bad_lines=False)\n",
    "book_ratings = pd.read_csv('BX-Book-Ratings.csv', sep=';',error_bad_lines=False)"
   ]
  },
  {
   "cell_type": "code",
   "execution_count": 3,
   "metadata": {},
   "outputs": [
    {
     "data": {
      "text/html": [
       "<div>\n",
       "<style scoped>\n",
       "    .dataframe tbody tr th:only-of-type {\n",
       "        vertical-align: middle;\n",
       "    }\n",
       "\n",
       "    .dataframe tbody tr th {\n",
       "        vertical-align: top;\n",
       "    }\n",
       "\n",
       "    .dataframe thead th {\n",
       "        text-align: right;\n",
       "    }\n",
       "</style>\n",
       "<table border=\"1\" class=\"dataframe\">\n",
       "  <thead>\n",
       "    <tr style=\"text-align: right;\">\n",
       "      <th></th>\n",
       "      <th>User-ID</th>\n",
       "      <th>Location</th>\n",
       "      <th>Age</th>\n",
       "    </tr>\n",
       "  </thead>\n",
       "  <tbody>\n",
       "    <tr>\n",
       "      <th>0</th>\n",
       "      <td>1</td>\n",
       "      <td>nyc, new york, usa</td>\n",
       "      <td>NaN</td>\n",
       "    </tr>\n",
       "    <tr>\n",
       "      <th>1</th>\n",
       "      <td>2</td>\n",
       "      <td>stockton, california, usa</td>\n",
       "      <td>18.0</td>\n",
       "    </tr>\n",
       "    <tr>\n",
       "      <th>2</th>\n",
       "      <td>3</td>\n",
       "      <td>moscow, yukon territory, russia</td>\n",
       "      <td>NaN</td>\n",
       "    </tr>\n",
       "    <tr>\n",
       "      <th>3</th>\n",
       "      <td>4</td>\n",
       "      <td>porto, v.n.gaia, portugal</td>\n",
       "      <td>17.0</td>\n",
       "    </tr>\n",
       "    <tr>\n",
       "      <th>4</th>\n",
       "      <td>5</td>\n",
       "      <td>farnborough, hants, united kingdom</td>\n",
       "      <td>NaN</td>\n",
       "    </tr>\n",
       "  </tbody>\n",
       "</table>\n",
       "</div>"
      ],
      "text/plain": [
       "   User-ID                            Location   Age\n",
       "0        1                  nyc, new york, usa   NaN\n",
       "1        2           stockton, california, usa  18.0\n",
       "2        3     moscow, yukon territory, russia   NaN\n",
       "3        4           porto, v.n.gaia, portugal  17.0\n",
       "4        5  farnborough, hants, united kingdom   NaN"
      ]
     },
     "execution_count": 3,
     "metadata": {},
     "output_type": "execute_result"
    }
   ],
   "source": [
    "users.head()"
   ]
  },
  {
   "cell_type": "code",
   "execution_count": 4,
   "metadata": {},
   "outputs": [
    {
     "data": {
      "text/html": [
       "<div>\n",
       "<style scoped>\n",
       "    .dataframe tbody tr th:only-of-type {\n",
       "        vertical-align: middle;\n",
       "    }\n",
       "\n",
       "    .dataframe tbody tr th {\n",
       "        vertical-align: top;\n",
       "    }\n",
       "\n",
       "    .dataframe thead th {\n",
       "        text-align: right;\n",
       "    }\n",
       "</style>\n",
       "<table border=\"1\" class=\"dataframe\">\n",
       "  <thead>\n",
       "    <tr style=\"text-align: right;\">\n",
       "      <th></th>\n",
       "      <th>ISBN</th>\n",
       "      <th>Book-Title</th>\n",
       "      <th>Book-Author</th>\n",
       "      <th>Year-Of-Publication</th>\n",
       "      <th>Publisher</th>\n",
       "      <th>Image-URL-S</th>\n",
       "      <th>Image-URL-M</th>\n",
       "      <th>Image-URL-L</th>\n",
       "    </tr>\n",
       "  </thead>\n",
       "  <tbody>\n",
       "    <tr>\n",
       "      <th>0</th>\n",
       "      <td>0195153448</td>\n",
       "      <td>Classical Mythology</td>\n",
       "      <td>Mark P. O. Morford</td>\n",
       "      <td>2002</td>\n",
       "      <td>Oxford University Press</td>\n",
       "      <td>http://images.amazon.com/images/P/0195153448.0...</td>\n",
       "      <td>http://images.amazon.com/images/P/0195153448.0...</td>\n",
       "      <td>http://images.amazon.com/images/P/0195153448.0...</td>\n",
       "    </tr>\n",
       "    <tr>\n",
       "      <th>1</th>\n",
       "      <td>0002005018</td>\n",
       "      <td>Clara Callan</td>\n",
       "      <td>Richard Bruce Wright</td>\n",
       "      <td>2001</td>\n",
       "      <td>HarperFlamingo Canada</td>\n",
       "      <td>http://images.amazon.com/images/P/0002005018.0...</td>\n",
       "      <td>http://images.amazon.com/images/P/0002005018.0...</td>\n",
       "      <td>http://images.amazon.com/images/P/0002005018.0...</td>\n",
       "    </tr>\n",
       "    <tr>\n",
       "      <th>2</th>\n",
       "      <td>0060973129</td>\n",
       "      <td>Decision in Normandy</td>\n",
       "      <td>Carlo D'Este</td>\n",
       "      <td>1991</td>\n",
       "      <td>HarperPerennial</td>\n",
       "      <td>http://images.amazon.com/images/P/0060973129.0...</td>\n",
       "      <td>http://images.amazon.com/images/P/0060973129.0...</td>\n",
       "      <td>http://images.amazon.com/images/P/0060973129.0...</td>\n",
       "    </tr>\n",
       "    <tr>\n",
       "      <th>3</th>\n",
       "      <td>0374157065</td>\n",
       "      <td>Flu: The Story of the Great Influenza Pandemic...</td>\n",
       "      <td>Gina Bari Kolata</td>\n",
       "      <td>1999</td>\n",
       "      <td>Farrar Straus Giroux</td>\n",
       "      <td>http://images.amazon.com/images/P/0374157065.0...</td>\n",
       "      <td>http://images.amazon.com/images/P/0374157065.0...</td>\n",
       "      <td>http://images.amazon.com/images/P/0374157065.0...</td>\n",
       "    </tr>\n",
       "    <tr>\n",
       "      <th>4</th>\n",
       "      <td>0393045218</td>\n",
       "      <td>The Mummies of Urumchi</td>\n",
       "      <td>E. J. W. Barber</td>\n",
       "      <td>1999</td>\n",
       "      <td>W. W. Norton &amp;amp Company</td>\n",
       "      <td>http://images.amazon.com/images/P/0393045218.0...</td>\n",
       "      <td>http://images.amazon.com/images/P/0393045218.0...</td>\n",
       "      <td>http://images.amazon.com/images/P/0393045218.0...</td>\n",
       "    </tr>\n",
       "  </tbody>\n",
       "</table>\n",
       "</div>"
      ],
      "text/plain": [
       "         ISBN                                         Book-Title  \\\n",
       "0  0195153448                                Classical Mythology   \n",
       "1  0002005018                                       Clara Callan   \n",
       "2  0060973129                               Decision in Normandy   \n",
       "3  0374157065  Flu: The Story of the Great Influenza Pandemic...   \n",
       "4  0393045218                             The Mummies of Urumchi   \n",
       "\n",
       "            Book-Author Year-Of-Publication                  Publisher  \\\n",
       "0    Mark P. O. Morford                2002    Oxford University Press   \n",
       "1  Richard Bruce Wright                2001      HarperFlamingo Canada   \n",
       "2          Carlo D'Este                1991            HarperPerennial   \n",
       "3      Gina Bari Kolata                1999       Farrar Straus Giroux   \n",
       "4       E. J. W. Barber                1999  W. W. Norton &amp Company   \n",
       "\n",
       "                                         Image-URL-S  \\\n",
       "0  http://images.amazon.com/images/P/0195153448.0...   \n",
       "1  http://images.amazon.com/images/P/0002005018.0...   \n",
       "2  http://images.amazon.com/images/P/0060973129.0...   \n",
       "3  http://images.amazon.com/images/P/0374157065.0...   \n",
       "4  http://images.amazon.com/images/P/0393045218.0...   \n",
       "\n",
       "                                         Image-URL-M  \\\n",
       "0  http://images.amazon.com/images/P/0195153448.0...   \n",
       "1  http://images.amazon.com/images/P/0002005018.0...   \n",
       "2  http://images.amazon.com/images/P/0060973129.0...   \n",
       "3  http://images.amazon.com/images/P/0374157065.0...   \n",
       "4  http://images.amazon.com/images/P/0393045218.0...   \n",
       "\n",
       "                                         Image-URL-L  \n",
       "0  http://images.amazon.com/images/P/0195153448.0...  \n",
       "1  http://images.amazon.com/images/P/0002005018.0...  \n",
       "2  http://images.amazon.com/images/P/0060973129.0...  \n",
       "3  http://images.amazon.com/images/P/0374157065.0...  \n",
       "4  http://images.amazon.com/images/P/0393045218.0...  "
      ]
     },
     "execution_count": 4,
     "metadata": {},
     "output_type": "execute_result"
    }
   ],
   "source": [
    "books.head()"
   ]
  },
  {
   "cell_type": "code",
   "execution_count": 5,
   "metadata": {},
   "outputs": [
    {
     "data": {
      "text/html": [
       "<div>\n",
       "<style scoped>\n",
       "    .dataframe tbody tr th:only-of-type {\n",
       "        vertical-align: middle;\n",
       "    }\n",
       "\n",
       "    .dataframe tbody tr th {\n",
       "        vertical-align: top;\n",
       "    }\n",
       "\n",
       "    .dataframe thead th {\n",
       "        text-align: right;\n",
       "    }\n",
       "</style>\n",
       "<table border=\"1\" class=\"dataframe\">\n",
       "  <thead>\n",
       "    <tr style=\"text-align: right;\">\n",
       "      <th></th>\n",
       "      <th>User-ID</th>\n",
       "      <th>ISBN</th>\n",
       "      <th>Book-Rating</th>\n",
       "    </tr>\n",
       "  </thead>\n",
       "  <tbody>\n",
       "    <tr>\n",
       "      <th>0</th>\n",
       "      <td>276725</td>\n",
       "      <td>034545104X</td>\n",
       "      <td>0</td>\n",
       "    </tr>\n",
       "    <tr>\n",
       "      <th>1</th>\n",
       "      <td>276726</td>\n",
       "      <td>0155061224</td>\n",
       "      <td>5</td>\n",
       "    </tr>\n",
       "    <tr>\n",
       "      <th>2</th>\n",
       "      <td>276727</td>\n",
       "      <td>0446520802</td>\n",
       "      <td>0</td>\n",
       "    </tr>\n",
       "    <tr>\n",
       "      <th>3</th>\n",
       "      <td>276729</td>\n",
       "      <td>052165615X</td>\n",
       "      <td>3</td>\n",
       "    </tr>\n",
       "    <tr>\n",
       "      <th>4</th>\n",
       "      <td>276729</td>\n",
       "      <td>0521795028</td>\n",
       "      <td>6</td>\n",
       "    </tr>\n",
       "  </tbody>\n",
       "</table>\n",
       "</div>"
      ],
      "text/plain": [
       "   User-ID        ISBN  Book-Rating\n",
       "0   276725  034545104X            0\n",
       "1   276726  0155061224            5\n",
       "2   276727  0446520802            0\n",
       "3   276729  052165615X            3\n",
       "4   276729  0521795028            6"
      ]
     },
     "execution_count": 5,
     "metadata": {},
     "output_type": "execute_result"
    }
   ],
   "source": [
    "book_ratings.head()"
   ]
  },
  {
   "cell_type": "code",
   "execution_count": 6,
   "metadata": {},
   "outputs": [],
   "source": [
    "users.name = 'Users'\n",
    "books.name = 'Books'\n",
    "book_ratings.name = 'Book_Ratings'\n",
    "all_df = [users, books, book_ratings]"
   ]
  },
  {
   "cell_type": "code",
   "execution_count": 7,
   "metadata": {},
   "outputs": [
    {
     "name": "stdout",
     "output_type": "stream",
     "text": [
      "Users_Shape : (278858, 3)\n",
      "Books_Shape : (271379, 8)\n",
      "Book_Ratings_Shape : (1149780, 3)\n"
     ]
    }
   ],
   "source": [
    "for df in all_df:\n",
    "    print(df.name + '_Shape : '+ str(df.shape))"
   ]
  },
  {
   "cell_type": "code",
   "execution_count": 8,
   "metadata": {},
   "outputs": [],
   "source": [
    "# let's rename columns to get looks more tidy\n",
    "for df in all_df:\n",
    "    df.columns = df.columns.str.strip().str.lower().str.replace('-', '_')\n",
    "    "
   ]
  },
  {
   "cell_type": "code",
   "execution_count": 9,
   "metadata": {},
   "outputs": [
    {
     "data": {
      "text/html": [
       "<div>\n",
       "<style scoped>\n",
       "    .dataframe tbody tr th:only-of-type {\n",
       "        vertical-align: middle;\n",
       "    }\n",
       "\n",
       "    .dataframe tbody tr th {\n",
       "        vertical-align: top;\n",
       "    }\n",
       "\n",
       "    .dataframe thead th {\n",
       "        text-align: right;\n",
       "    }\n",
       "</style>\n",
       "<table border=\"1\" class=\"dataframe\">\n",
       "  <thead>\n",
       "    <tr style=\"text-align: right;\">\n",
       "      <th></th>\n",
       "      <th>user_id</th>\n",
       "      <th>location</th>\n",
       "      <th>age</th>\n",
       "    </tr>\n",
       "  </thead>\n",
       "  <tbody>\n",
       "    <tr>\n",
       "      <th>0</th>\n",
       "      <td>1</td>\n",
       "      <td>nyc, new york, usa</td>\n",
       "      <td>NaN</td>\n",
       "    </tr>\n",
       "    <tr>\n",
       "      <th>1</th>\n",
       "      <td>2</td>\n",
       "      <td>stockton, california, usa</td>\n",
       "      <td>18.0</td>\n",
       "    </tr>\n",
       "    <tr>\n",
       "      <th>2</th>\n",
       "      <td>3</td>\n",
       "      <td>moscow, yukon territory, russia</td>\n",
       "      <td>NaN</td>\n",
       "    </tr>\n",
       "    <tr>\n",
       "      <th>3</th>\n",
       "      <td>4</td>\n",
       "      <td>porto, v.n.gaia, portugal</td>\n",
       "      <td>17.0</td>\n",
       "    </tr>\n",
       "    <tr>\n",
       "      <th>4</th>\n",
       "      <td>5</td>\n",
       "      <td>farnborough, hants, united kingdom</td>\n",
       "      <td>NaN</td>\n",
       "    </tr>\n",
       "  </tbody>\n",
       "</table>\n",
       "</div>"
      ],
      "text/plain": [
       "   user_id                            location   age\n",
       "0        1                  nyc, new york, usa   NaN\n",
       "1        2           stockton, california, usa  18.0\n",
       "2        3     moscow, yukon territory, russia   NaN\n",
       "3        4           porto, v.n.gaia, portugal  17.0\n",
       "4        5  farnborough, hants, united kingdom   NaN"
      ]
     },
     "execution_count": 9,
     "metadata": {},
     "output_type": "execute_result"
    }
   ],
   "source": [
    "users.head()"
   ]
  },
  {
   "cell_type": "code",
   "execution_count": 10,
   "metadata": {},
   "outputs": [
    {
     "data": {
      "text/html": [
       "<div>\n",
       "<style scoped>\n",
       "    .dataframe tbody tr th:only-of-type {\n",
       "        vertical-align: middle;\n",
       "    }\n",
       "\n",
       "    .dataframe tbody tr th {\n",
       "        vertical-align: top;\n",
       "    }\n",
       "\n",
       "    .dataframe thead th {\n",
       "        text-align: right;\n",
       "    }\n",
       "</style>\n",
       "<table border=\"1\" class=\"dataframe\">\n",
       "  <thead>\n",
       "    <tr style=\"text-align: right;\">\n",
       "      <th></th>\n",
       "      <th>isbn</th>\n",
       "      <th>book_title</th>\n",
       "      <th>book_author</th>\n",
       "      <th>year_of_publication</th>\n",
       "      <th>publisher</th>\n",
       "      <th>image_url_s</th>\n",
       "      <th>image_url_m</th>\n",
       "      <th>image_url_l</th>\n",
       "    </tr>\n",
       "  </thead>\n",
       "  <tbody>\n",
       "    <tr>\n",
       "      <th>0</th>\n",
       "      <td>0195153448</td>\n",
       "      <td>Classical Mythology</td>\n",
       "      <td>Mark P. O. Morford</td>\n",
       "      <td>2002</td>\n",
       "      <td>Oxford University Press</td>\n",
       "      <td>http://images.amazon.com/images/P/0195153448.0...</td>\n",
       "      <td>http://images.amazon.com/images/P/0195153448.0...</td>\n",
       "      <td>http://images.amazon.com/images/P/0195153448.0...</td>\n",
       "    </tr>\n",
       "    <tr>\n",
       "      <th>1</th>\n",
       "      <td>0002005018</td>\n",
       "      <td>Clara Callan</td>\n",
       "      <td>Richard Bruce Wright</td>\n",
       "      <td>2001</td>\n",
       "      <td>HarperFlamingo Canada</td>\n",
       "      <td>http://images.amazon.com/images/P/0002005018.0...</td>\n",
       "      <td>http://images.amazon.com/images/P/0002005018.0...</td>\n",
       "      <td>http://images.amazon.com/images/P/0002005018.0...</td>\n",
       "    </tr>\n",
       "    <tr>\n",
       "      <th>2</th>\n",
       "      <td>0060973129</td>\n",
       "      <td>Decision in Normandy</td>\n",
       "      <td>Carlo D'Este</td>\n",
       "      <td>1991</td>\n",
       "      <td>HarperPerennial</td>\n",
       "      <td>http://images.amazon.com/images/P/0060973129.0...</td>\n",
       "      <td>http://images.amazon.com/images/P/0060973129.0...</td>\n",
       "      <td>http://images.amazon.com/images/P/0060973129.0...</td>\n",
       "    </tr>\n",
       "    <tr>\n",
       "      <th>3</th>\n",
       "      <td>0374157065</td>\n",
       "      <td>Flu: The Story of the Great Influenza Pandemic...</td>\n",
       "      <td>Gina Bari Kolata</td>\n",
       "      <td>1999</td>\n",
       "      <td>Farrar Straus Giroux</td>\n",
       "      <td>http://images.amazon.com/images/P/0374157065.0...</td>\n",
       "      <td>http://images.amazon.com/images/P/0374157065.0...</td>\n",
       "      <td>http://images.amazon.com/images/P/0374157065.0...</td>\n",
       "    </tr>\n",
       "    <tr>\n",
       "      <th>4</th>\n",
       "      <td>0393045218</td>\n",
       "      <td>The Mummies of Urumchi</td>\n",
       "      <td>E. J. W. Barber</td>\n",
       "      <td>1999</td>\n",
       "      <td>W. W. Norton &amp;amp Company</td>\n",
       "      <td>http://images.amazon.com/images/P/0393045218.0...</td>\n",
       "      <td>http://images.amazon.com/images/P/0393045218.0...</td>\n",
       "      <td>http://images.amazon.com/images/P/0393045218.0...</td>\n",
       "    </tr>\n",
       "  </tbody>\n",
       "</table>\n",
       "</div>"
      ],
      "text/plain": [
       "         isbn                                         book_title  \\\n",
       "0  0195153448                                Classical Mythology   \n",
       "1  0002005018                                       Clara Callan   \n",
       "2  0060973129                               Decision in Normandy   \n",
       "3  0374157065  Flu: The Story of the Great Influenza Pandemic...   \n",
       "4  0393045218                             The Mummies of Urumchi   \n",
       "\n",
       "            book_author year_of_publication                  publisher  \\\n",
       "0    Mark P. O. Morford                2002    Oxford University Press   \n",
       "1  Richard Bruce Wright                2001      HarperFlamingo Canada   \n",
       "2          Carlo D'Este                1991            HarperPerennial   \n",
       "3      Gina Bari Kolata                1999       Farrar Straus Giroux   \n",
       "4       E. J. W. Barber                1999  W. W. Norton &amp Company   \n",
       "\n",
       "                                         image_url_s  \\\n",
       "0  http://images.amazon.com/images/P/0195153448.0...   \n",
       "1  http://images.amazon.com/images/P/0002005018.0...   \n",
       "2  http://images.amazon.com/images/P/0060973129.0...   \n",
       "3  http://images.amazon.com/images/P/0374157065.0...   \n",
       "4  http://images.amazon.com/images/P/0393045218.0...   \n",
       "\n",
       "                                         image_url_m  \\\n",
       "0  http://images.amazon.com/images/P/0195153448.0...   \n",
       "1  http://images.amazon.com/images/P/0002005018.0...   \n",
       "2  http://images.amazon.com/images/P/0060973129.0...   \n",
       "3  http://images.amazon.com/images/P/0374157065.0...   \n",
       "4  http://images.amazon.com/images/P/0393045218.0...   \n",
       "\n",
       "                                         image_url_l  \n",
       "0  http://images.amazon.com/images/P/0195153448.0...  \n",
       "1  http://images.amazon.com/images/P/0002005018.0...  \n",
       "2  http://images.amazon.com/images/P/0060973129.0...  \n",
       "3  http://images.amazon.com/images/P/0374157065.0...  \n",
       "4  http://images.amazon.com/images/P/0393045218.0...  "
      ]
     },
     "execution_count": 10,
     "metadata": {},
     "output_type": "execute_result"
    }
   ],
   "source": [
    "books.head()"
   ]
  },
  {
   "cell_type": "code",
   "execution_count": 11,
   "metadata": {},
   "outputs": [
    {
     "data": {
      "text/html": [
       "<div>\n",
       "<style scoped>\n",
       "    .dataframe tbody tr th:only-of-type {\n",
       "        vertical-align: middle;\n",
       "    }\n",
       "\n",
       "    .dataframe tbody tr th {\n",
       "        vertical-align: top;\n",
       "    }\n",
       "\n",
       "    .dataframe thead th {\n",
       "        text-align: right;\n",
       "    }\n",
       "</style>\n",
       "<table border=\"1\" class=\"dataframe\">\n",
       "  <thead>\n",
       "    <tr style=\"text-align: right;\">\n",
       "      <th></th>\n",
       "      <th>user_id</th>\n",
       "      <th>isbn</th>\n",
       "      <th>book_rating</th>\n",
       "    </tr>\n",
       "  </thead>\n",
       "  <tbody>\n",
       "    <tr>\n",
       "      <th>0</th>\n",
       "      <td>276725</td>\n",
       "      <td>034545104X</td>\n",
       "      <td>0</td>\n",
       "    </tr>\n",
       "    <tr>\n",
       "      <th>1</th>\n",
       "      <td>276726</td>\n",
       "      <td>0155061224</td>\n",
       "      <td>5</td>\n",
       "    </tr>\n",
       "    <tr>\n",
       "      <th>2</th>\n",
       "      <td>276727</td>\n",
       "      <td>0446520802</td>\n",
       "      <td>0</td>\n",
       "    </tr>\n",
       "    <tr>\n",
       "      <th>3</th>\n",
       "      <td>276729</td>\n",
       "      <td>052165615X</td>\n",
       "      <td>3</td>\n",
       "    </tr>\n",
       "    <tr>\n",
       "      <th>4</th>\n",
       "      <td>276729</td>\n",
       "      <td>0521795028</td>\n",
       "      <td>6</td>\n",
       "    </tr>\n",
       "  </tbody>\n",
       "</table>\n",
       "</div>"
      ],
      "text/plain": [
       "   user_id        isbn  book_rating\n",
       "0   276725  034545104X            0\n",
       "1   276726  0155061224            5\n",
       "2   276727  0446520802            0\n",
       "3   276729  052165615X            3\n",
       "4   276729  0521795028            6"
      ]
     },
     "execution_count": 11,
     "metadata": {},
     "output_type": "execute_result"
    }
   ],
   "source": [
    "book_ratings.head()"
   ]
  },
  {
   "cell_type": "markdown",
   "metadata": {},
   "source": [
    "### Firstly, We will explore User data frame.\n"
   ]
  },
  {
   "cell_type": "code",
   "execution_count": 12,
   "metadata": {},
   "outputs": [
    {
     "name": "stdout",
     "output_type": "stream",
     "text": [
      "There is no duplicated Id.\n"
     ]
    }
   ],
   "source": [
    "# We looked there is a duplicated Id or not?\n",
    "\n",
    "uniq_users = users.user_id.nunique()\n",
    "all_users = users.user_id.count()\n",
    "if uniq_users == all_users:\n",
    "    print(\"There is no duplicated Id.\")\n",
    "else:\n",
    "    print(\"There are some duplicated Id : \" + str(all_users - uniq_users) )\n"
   ]
  },
  {
   "cell_type": "code",
   "execution_count": 13,
   "metadata": {},
   "outputs": [
    {
     "name": "stdout",
     "output_type": "stream",
     "text": [
      " Max Age is :244.0\n",
      " Min Age is :0.0\n"
     ]
    },
    {
     "data": {
      "image/png": "[encoded data removed]",
      "text/plain": [
       "<Figure size 432x288 with 1 Axes>"
      ]
     },
     "metadata": {
      "needs_background": "light"
     },
     "output_type": "display_data"
    }
   ],
   "source": [
    "# let's have look for age column distrubtion.\n",
    "sns.distplot(users.age, color = 'red')\n",
    "plt.rcParams['figure.figsize'] = [7, 5]\n",
    "max_age = users.age.max()\n",
    "min_age = users.age.min()\n",
    "print(\" Max Age is :\" +str(max_age))\n",
    "print(\" Min Age is :\" +str(min_age))"
   ]
  },
  {
   "cell_type": "markdown",
   "metadata": {},
   "source": [
    "> As we can see at above chart age range is 0 to 244."
   ]
  },
  {
   "cell_type": "code",
   "execution_count": 14,
   "metadata": {},
   "outputs": [],
   "source": [
    "# let's convert data that outside the range 0 to 100 by nan.\n",
    "users.loc[(users.age<5) | (users.age>100), 'age'] = np.nan"
   ]
  },
  {
   "cell_type": "code",
   "execution_count": 15,
   "metadata": {},
   "outputs": [
    {
     "name": "stdout",
     "output_type": "stream",
     "text": [
      " Max Age is :100.0\n",
      " Min Age is :5.0\n"
     ]
    },
    {
     "data": {
      "image/png": "[encoded data removed]",
      "text/plain": [
       "<Figure size 504x360 with 1 Axes>"
      ]
     },
     "metadata": {
      "needs_background": "light"
     },
     "output_type": "display_data"
    }
   ],
   "source": [
    "sns.distplot(users.age)\n",
    "plt.rcParams['figure.figsize'] = [7, 5]\n",
    "max_age = users.age.max()\n",
    "min_age = users.age.min()\n",
    "print(\" Max Age is :\" +str(max_age))\n",
    "print(\" Min Age is :\" +str(min_age))"
   ]
  },
  {
   "cell_type": "code",
   "execution_count": 16,
   "metadata": {},
   "outputs": [
    {
     "data": {
      "image/png": "[encoded data removed]",
      "text/plain": [
       "<Figure size 1440x720 with 1 Axes>"
      ]
     },
     "metadata": {
      "needs_background": "light"
     },
     "output_type": "display_data"
    }
   ],
   "source": [
    "# each age is represented individually\n",
    "u = users.age.value_counts().sort_index()\n",
    "plt.figure(figsize=(20, 10))\n",
    "plt.rcParams.update({'font.size': 15}) # Set larger plot font size\n",
    "plt.bar(u.index, u.values)\n",
    "plt.xlabel('Age')\n",
    "plt.ylabel('Counts')\n",
    "plt.show()"
   ]
  },
  {
   "cell_type": "code",
   "execution_count": 17,
   "metadata": {},
   "outputs": [
    {
     "data": {
      "image/png": "[encoded data removed]",
      "text/plain": [
       "<Figure size 720x360 with 3 Axes>"
      ]
     },
     "metadata": {
      "needs_background": "light"
     },
     "output_type": "display_data"
    }
   ],
   "source": [
    "msno.bar(users,color=\"dodgerblue\", sort=\"ascending\", figsize=(10,5), fontsize=12);"
   ]
  },
  {
   "cell_type": "code",
   "execution_count": 18,
   "metadata": {},
   "outputs": [
    {
     "data": {
      "image/png": "[encoded data removed]",
      "text/plain": [
       "<Figure size 1800x720 with 2 Axes>"
      ]
     },
     "metadata": {
      "needs_background": "light"
     },
     "output_type": "display_data"
    }
   ],
   "source": [
    "msno.matrix(users);"
   ]
  },
  {
   "cell_type": "markdown",
   "metadata": {},
   "source": [
    "> Or data looks like Missing Completely at Random (MCAR).\n",
    ">\n",
    "> So, as we can see at above our age column approximately %40 is empty. Therefore we decided to not go forward in the modeling section with age column.\n",
    ">"
   ]
  },
  {
   "cell_type": "code",
   "execution_count": 19,
   "metadata": {},
   "outputs": [],
   "source": [
    "# Now we can expand location column for look deeply our missings.\n",
    "user_location_expanded = users.location.str.split(',', 2, expand=True)\n",
    "user_location_expanded.columns = ['city', 'state', 'country']\n",
    "users = users.join(user_location_expanded)"
   ]
  },
  {
   "cell_type": "code",
   "execution_count": 20,
   "metadata": {},
   "outputs": [
    {
     "data": {
      "text/html": [
       "<div>\n",
       "<style scoped>\n",
       "    .dataframe tbody tr th:only-of-type {\n",
       "        vertical-align: middle;\n",
       "    }\n",
       "\n",
       "    .dataframe tbody tr th {\n",
       "        vertical-align: top;\n",
       "    }\n",
       "\n",
       "    .dataframe thead th {\n",
       "        text-align: right;\n",
       "    }\n",
       "</style>\n",
       "<table border=\"1\" class=\"dataframe\">\n",
       "  <thead>\n",
       "    <tr style=\"text-align: right;\">\n",
       "      <th></th>\n",
       "      <th>user_id</th>\n",
       "      <th>age</th>\n",
       "      <th>city</th>\n",
       "      <th>state</th>\n",
       "      <th>country</th>\n",
       "    </tr>\n",
       "  </thead>\n",
       "  <tbody>\n",
       "    <tr>\n",
       "      <th>0</th>\n",
       "      <td>1</td>\n",
       "      <td>NaN</td>\n",
       "      <td>nyc</td>\n",
       "      <td>new york</td>\n",
       "      <td>usa</td>\n",
       "    </tr>\n",
       "    <tr>\n",
       "      <th>1</th>\n",
       "      <td>2</td>\n",
       "      <td>18.0</td>\n",
       "      <td>stockton</td>\n",
       "      <td>california</td>\n",
       "      <td>usa</td>\n",
       "    </tr>\n",
       "    <tr>\n",
       "      <th>2</th>\n",
       "      <td>3</td>\n",
       "      <td>NaN</td>\n",
       "      <td>moscow</td>\n",
       "      <td>yukon territory</td>\n",
       "      <td>russia</td>\n",
       "    </tr>\n",
       "    <tr>\n",
       "      <th>3</th>\n",
       "      <td>4</td>\n",
       "      <td>17.0</td>\n",
       "      <td>porto</td>\n",
       "      <td>v.n.gaia</td>\n",
       "      <td>portugal</td>\n",
       "    </tr>\n",
       "    <tr>\n",
       "      <th>4</th>\n",
       "      <td>5</td>\n",
       "      <td>NaN</td>\n",
       "      <td>farnborough</td>\n",
       "      <td>hants</td>\n",
       "      <td>united kingdom</td>\n",
       "    </tr>\n",
       "  </tbody>\n",
       "</table>\n",
       "</div>"
      ],
      "text/plain": [
       "   user_id   age         city             state          country\n",
       "0        1   NaN          nyc          new york              usa\n",
       "1        2  18.0     stockton        california              usa\n",
       "2        3   NaN       moscow   yukon territory           russia\n",
       "3        4  17.0        porto          v.n.gaia         portugal\n",
       "4        5   NaN  farnborough             hants   united kingdom"
      ]
     },
     "execution_count": 20,
     "metadata": {},
     "output_type": "execute_result"
    }
   ],
   "source": [
    "users.drop(columns=['location'], inplace=True)\n",
    "users.head()"
   ]
  },
  {
   "cell_type": "code",
   "execution_count": 21,
   "metadata": {},
   "outputs": [
    {
     "data": {
      "image/png": "[encoded data removed]",
      "text/plain": [
       "<Figure size 720x360 with 3 Axes>"
      ]
     },
     "metadata": {
      "needs_background": "light"
     },
     "output_type": "display_data"
    }
   ],
   "source": [
    "msno.bar(users,color=\"dodgerblue\", sort=\"ascending\", figsize=(10,5), fontsize=12);"
   ]
  },
  {
   "cell_type": "code",
   "execution_count": 22,
   "metadata": {},
   "outputs": [
    {
     "name": "stdout",
     "output_type": "stream",
     "text": [
      "Nan country: 2\n"
     ]
    }
   ],
   "source": [
    "empty_string_country = users[users.country == ''].country.count()\n",
    "nan_country = users.country.isnull().sum()\n",
    "print(\"Nan country: \"+ str(nan_country))"
   ]
  },
  {
   "cell_type": "code",
   "execution_count": 23,
   "metadata": {},
   "outputs": [
    {
     "name": "stdout",
     "output_type": "stream",
     "text": [
      "Nan country: 4563\n"
     ]
    }
   ],
   "source": [
    "users.country.replace('', np.nan, inplace=True) # we change empty values to nan\n",
    "nan_country = users.country.isnull().sum()\n",
    "print(\"Nan country: \"+ str(nan_country))"
   ]
  },
  {
   "cell_type": "markdown",
   "metadata": {},
   "source": [
    ">We did not fill or drop our missing values after tidy up files we will decide that for modeling section.\n"
   ]
  },
  {
   "cell_type": "markdown",
   "metadata": {},
   "source": [
    "### Second, We will explore Book data frame."
   ]
  },
  {
   "cell_type": "code",
   "execution_count": 24,
   "metadata": {},
   "outputs": [
    {
     "data": {
      "text/html": [
       "<div>\n",
       "<style scoped>\n",
       "    .dataframe tbody tr th:only-of-type {\n",
       "        vertical-align: middle;\n",
       "    }\n",
       "\n",
       "    .dataframe tbody tr th {\n",
       "        vertical-align: top;\n",
       "    }\n",
       "\n",
       "    .dataframe thead th {\n",
       "        text-align: right;\n",
       "    }\n",
       "</style>\n",
       "<table border=\"1\" class=\"dataframe\">\n",
       "  <thead>\n",
       "    <tr style=\"text-align: right;\">\n",
       "      <th></th>\n",
       "      <th>isbn</th>\n",
       "      <th>book_title</th>\n",
       "      <th>book_author</th>\n",
       "      <th>year_of_publication</th>\n",
       "      <th>publisher</th>\n",
       "      <th>image_url_s</th>\n",
       "      <th>image_url_m</th>\n",
       "      <th>image_url_l</th>\n",
       "    </tr>\n",
       "  </thead>\n",
       "  <tbody>\n",
       "    <tr>\n",
       "      <th>0</th>\n",
       "      <td>0195153448</td>\n",
       "      <td>Classical Mythology</td>\n",
       "      <td>Mark P. O. Morford</td>\n",
       "      <td>2002</td>\n",
       "      <td>Oxford University Press</td>\n",
       "      <td>http://images.amazon.com/images/P/0195153448.0...</td>\n",
       "      <td>http://images.amazon.com/images/P/0195153448.0...</td>\n",
       "      <td>http://images.amazon.com/images/P/0195153448.0...</td>\n",
       "    </tr>\n",
       "    <tr>\n",
       "      <th>1</th>\n",
       "      <td>0002005018</td>\n",
       "      <td>Clara Callan</td>\n",
       "      <td>Richard Bruce Wright</td>\n",
       "      <td>2001</td>\n",
       "      <td>HarperFlamingo Canada</td>\n",
       "      <td>http://images.amazon.com/images/P/0002005018.0...</td>\n",
       "      <td>http://images.amazon.com/images/P/0002005018.0...</td>\n",
       "      <td>http://images.amazon.com/images/P/0002005018.0...</td>\n",
       "    </tr>\n",
       "    <tr>\n",
       "      <th>2</th>\n",
       "      <td>0060973129</td>\n",
       "      <td>Decision in Normandy</td>\n",
       "      <td>Carlo D'Este</td>\n",
       "      <td>1991</td>\n",
       "      <td>HarperPerennial</td>\n",
       "      <td>http://images.amazon.com/images/P/0060973129.0...</td>\n",
       "      <td>http://images.amazon.com/images/P/0060973129.0...</td>\n",
       "      <td>http://images.amazon.com/images/P/0060973129.0...</td>\n",
       "    </tr>\n",
       "    <tr>\n",
       "      <th>3</th>\n",
       "      <td>0374157065</td>\n",
       "      <td>Flu: The Story of the Great Influenza Pandemic...</td>\n",
       "      <td>Gina Bari Kolata</td>\n",
       "      <td>1999</td>\n",
       "      <td>Farrar Straus Giroux</td>\n",
       "      <td>http://images.amazon.com/images/P/0374157065.0...</td>\n",
       "      <td>http://images.amazon.com/images/P/0374157065.0...</td>\n",
       "      <td>http://images.amazon.com/images/P/0374157065.0...</td>\n",
       "    </tr>\n",
       "    <tr>\n",
       "      <th>4</th>\n",
       "      <td>0393045218</td>\n",
       "      <td>The Mummies of Urumchi</td>\n",
       "      <td>E. J. W. Barber</td>\n",
       "      <td>1999</td>\n",
       "      <td>W. W. Norton &amp;amp Company</td>\n",
       "      <td>http://images.amazon.com/images/P/0393045218.0...</td>\n",
       "      <td>http://images.amazon.com/images/P/0393045218.0...</td>\n",
       "      <td>http://images.amazon.com/images/P/0393045218.0...</td>\n",
       "    </tr>\n",
       "  </tbody>\n",
       "</table>\n",
       "</div>"
      ],
      "text/plain": [
       "         isbn                                         book_title  \\\n",
       "0  0195153448                                Classical Mythology   \n",
       "1  0002005018                                       Clara Callan   \n",
       "2  0060973129                               Decision in Normandy   \n",
       "3  0374157065  Flu: The Story of the Great Influenza Pandemic...   \n",
       "4  0393045218                             The Mummies of Urumchi   \n",
       "\n",
       "            book_author year_of_publication                  publisher  \\\n",
       "0    Mark P. O. Morford                2002    Oxford University Press   \n",
       "1  Richard Bruce Wright                2001      HarperFlamingo Canada   \n",
       "2          Carlo D'Este                1991            HarperPerennial   \n",
       "3      Gina Bari Kolata                1999       Farrar Straus Giroux   \n",
       "4       E. J. W. Barber                1999  W. W. Norton &amp Company   \n",
       "\n",
       "                                         image_url_s  \\\n",
       "0  http://images.amazon.com/images/P/0195153448.0...   \n",
       "1  http://images.amazon.com/images/P/0002005018.0...   \n",
       "2  http://images.amazon.com/images/P/0060973129.0...   \n",
       "3  http://images.amazon.com/images/P/0374157065.0...   \n",
       "4  http://images.amazon.com/images/P/0393045218.0...   \n",
       "\n",
       "                                         image_url_m  \\\n",
       "0  http://images.amazon.com/images/P/0195153448.0...   \n",
       "1  http://images.amazon.com/images/P/0002005018.0...   \n",
       "2  http://images.amazon.com/images/P/0060973129.0...   \n",
       "3  http://images.amazon.com/images/P/0374157065.0...   \n",
       "4  http://images.amazon.com/images/P/0393045218.0...   \n",
       "\n",
       "                                         image_url_l  \n",
       "0  http://images.amazon.com/images/P/0195153448.0...  \n",
       "1  http://images.amazon.com/images/P/0002005018.0...  \n",
       "2  http://images.amazon.com/images/P/0060973129.0...  \n",
       "3  http://images.amazon.com/images/P/0374157065.0...  \n",
       "4  http://images.amazon.com/images/P/0393045218.0...  "
      ]
     },
     "execution_count": 24,
     "metadata": {},
     "output_type": "execute_result"
    }
   ],
   "source": [
    "books.head()"
   ]
  },
  {
   "cell_type": "code",
   "execution_count": 25,
   "metadata": {},
   "outputs": [
    {
     "data": {
      "text/html": [
       "<div>\n",
       "<style scoped>\n",
       "    .dataframe tbody tr th:only-of-type {\n",
       "        vertical-align: middle;\n",
       "    }\n",
       "\n",
       "    .dataframe tbody tr th {\n",
       "        vertical-align: top;\n",
       "    }\n",
       "\n",
       "    .dataframe thead th {\n",
       "        text-align: right;\n",
       "    }\n",
       "</style>\n",
       "<table border=\"1\" class=\"dataframe\">\n",
       "  <thead>\n",
       "    <tr style=\"text-align: right;\">\n",
       "      <th></th>\n",
       "      <th>isbn</th>\n",
       "      <th>book_title</th>\n",
       "      <th>book_author</th>\n",
       "      <th>year_of_publication</th>\n",
       "      <th>publisher</th>\n",
       "      <th>image_url_s</th>\n",
       "      <th>image_url_m</th>\n",
       "      <th>image_url_l</th>\n",
       "    </tr>\n",
       "  </thead>\n",
       "  <tbody>\n",
       "    <tr>\n",
       "      <th>271374</th>\n",
       "      <td>0440400988</td>\n",
       "      <td>There's a Bat in Bunk Five</td>\n",
       "      <td>Paula Danziger</td>\n",
       "      <td>1988</td>\n",
       "      <td>Random House Childrens Pub (Mm)</td>\n",
       "      <td>http://images.amazon.com/images/P/0440400988.0...</td>\n",
       "      <td>http://images.amazon.com/images/P/0440400988.0...</td>\n",
       "      <td>http://images.amazon.com/images/P/0440400988.0...</td>\n",
       "    </tr>\n",
       "    <tr>\n",
       "      <th>271375</th>\n",
       "      <td>0525447644</td>\n",
       "      <td>From One to One Hundred</td>\n",
       "      <td>Teri Sloat</td>\n",
       "      <td>1991</td>\n",
       "      <td>Dutton Books</td>\n",
       "      <td>http://images.amazon.com/images/P/0525447644.0...</td>\n",
       "      <td>http://images.amazon.com/images/P/0525447644.0...</td>\n",
       "      <td>http://images.amazon.com/images/P/0525447644.0...</td>\n",
       "    </tr>\n",
       "    <tr>\n",
       "      <th>271376</th>\n",
       "      <td>006008667X</td>\n",
       "      <td>Lily Dale : The True Story of the Town that Ta...</td>\n",
       "      <td>Christine Wicker</td>\n",
       "      <td>2004</td>\n",
       "      <td>HarperSanFrancisco</td>\n",
       "      <td>http://images.amazon.com/images/P/006008667X.0...</td>\n",
       "      <td>http://images.amazon.com/images/P/006008667X.0...</td>\n",
       "      <td>http://images.amazon.com/images/P/006008667X.0...</td>\n",
       "    </tr>\n",
       "    <tr>\n",
       "      <th>271377</th>\n",
       "      <td>0192126040</td>\n",
       "      <td>Republic (World's Classics)</td>\n",
       "      <td>Plato</td>\n",
       "      <td>1996</td>\n",
       "      <td>Oxford University Press</td>\n",
       "      <td>http://images.amazon.com/images/P/0192126040.0...</td>\n",
       "      <td>http://images.amazon.com/images/P/0192126040.0...</td>\n",
       "      <td>http://images.amazon.com/images/P/0192126040.0...</td>\n",
       "    </tr>\n",
       "    <tr>\n",
       "      <th>271378</th>\n",
       "      <td>0767409752</td>\n",
       "      <td>A Guided Tour of Rene Descartes' Meditations o...</td>\n",
       "      <td>Christopher  Biffle</td>\n",
       "      <td>2000</td>\n",
       "      <td>McGraw-Hill Humanities/Social Sciences/Languages</td>\n",
       "      <td>http://images.amazon.com/images/P/0767409752.0...</td>\n",
       "      <td>http://images.amazon.com/images/P/0767409752.0...</td>\n",
       "      <td>http://images.amazon.com/images/P/0767409752.0...</td>\n",
       "    </tr>\n",
       "  </tbody>\n",
       "</table>\n",
       "</div>"
      ],
      "text/plain": [
       "              isbn                                         book_title  \\\n",
       "271374  0440400988                         There's a Bat in Bunk Five   \n",
       "271375  0525447644                            From One to One Hundred   \n",
       "271376  006008667X  Lily Dale : The True Story of the Town that Ta...   \n",
       "271377  0192126040                        Republic (World's Classics)   \n",
       "271378  0767409752  A Guided Tour of Rene Descartes' Meditations o...   \n",
       "\n",
       "                book_author year_of_publication  \\\n",
       "271374       Paula Danziger                1988   \n",
       "271375           Teri Sloat                1991   \n",
       "271376     Christine Wicker                2004   \n",
       "271377                Plato                1996   \n",
       "271378  Christopher  Biffle                2000   \n",
       "\n",
       "                                               publisher  \\\n",
       "271374                   Random House Childrens Pub (Mm)   \n",
       "271375                                      Dutton Books   \n",
       "271376                                HarperSanFrancisco   \n",
       "271377                           Oxford University Press   \n",
       "271378  McGraw-Hill Humanities/Social Sciences/Languages   \n",
       "\n",
       "                                              image_url_s  \\\n",
       "271374  http://images.amazon.com/images/P/0440400988.0...   \n",
       "271375  http://images.amazon.com/images/P/0525447644.0...   \n",
       "271376  http://images.amazon.com/images/P/006008667X.0...   \n",
       "271377  http://images.amazon.com/images/P/0192126040.0...   \n",
       "271378  http://images.amazon.com/images/P/0767409752.0...   \n",
       "\n",
       "                                              image_url_m  \\\n",
       "271374  http://images.amazon.com/images/P/0440400988.0...   \n",
       "271375  http://images.amazon.com/images/P/0525447644.0...   \n",
       "271376  http://images.amazon.com/images/P/006008667X.0...   \n",
       "271377  http://images.amazon.com/images/P/0192126040.0...   \n",
       "271378  http://images.amazon.com/images/P/0767409752.0...   \n",
       "\n",
       "                                              image_url_l  \n",
       "271374  http://images.amazon.com/images/P/0440400988.0...  \n",
       "271375  http://images.amazon.com/images/P/0525447644.0...  \n",
       "271376  http://images.amazon.com/images/P/006008667X.0...  \n",
       "271377  http://images.amazon.com/images/P/0192126040.0...  \n",
       "271378  http://images.amazon.com/images/P/0767409752.0...  "
      ]
     },
     "execution_count": 25,
     "metadata": {},
     "output_type": "execute_result"
    }
   ],
   "source": [
    "books.tail()"
   ]
  },
  {
   "cell_type": "code",
   "execution_count": 26,
   "metadata": {},
   "outputs": [],
   "source": [
    "# image will not need for recommendation \n",
    "books.drop(columns=['image_url_s', 'image_url_m', 'image_url_l'], inplace=True) # drop image-url columns"
   ]
  },
  {
   "cell_type": "code",
   "execution_count": 27,
   "metadata": {},
   "outputs": [
    {
     "data": {
      "image/png": "[encoded data removed]",
      "text/plain": [
       "<Figure size 720x360 with 3 Axes>"
      ]
     },
     "metadata": {
      "needs_background": "light"
     },
     "output_type": "display_data"
    }
   ],
   "source": [
    "msno.bar(books,color=\"dodgerblue\", sort=\"ascending\", figsize=(10,5), fontsize=12);"
   ]
  },
  {
   "cell_type": "code",
   "execution_count": 28,
   "metadata": {},
   "outputs": [],
   "source": [
    "# we convert year_of_publication column numeric values.\n",
    "books.year_of_publication = pd.to_numeric(books.year_of_publication, errors='coerce')"
   ]
  },
  {
   "cell_type": "code",
   "execution_count": 29,
   "metadata": {},
   "outputs": [
    {
     "data": {
      "text/plain": [
       "4619"
      ]
     },
     "execution_count": 29,
     "metadata": {},
     "output_type": "execute_result"
    }
   ],
   "source": [
    "# let's have look there is 0 year or not?\n",
    "\n",
    "zero_yr = books[books.year_of_publication == 0].year_of_publication.count()\n",
    "zero_yr"
   ]
  },
  {
   "cell_type": "code",
   "execution_count": 30,
   "metadata": {},
   "outputs": [],
   "source": [
    "# Replace all years of zero with NaN\n",
    "books.year_of_publication.replace(0, np.nan, inplace=True)"
   ]
  },
  {
   "cell_type": "code",
   "execution_count": 31,
   "metadata": {},
   "outputs": [
    {
     "name": "stdout",
     "output_type": "stream",
     "text": [
      " Max year_of_publication is :2050.0\n",
      " Min year_of_publication is :1376.0\n"
     ]
    },
    {
     "data": {
      "image/png": "[encoded data removed]",
      "text/plain": [
       "<Figure size 504x360 with 1 Axes>"
      ]
     },
     "metadata": {
      "needs_background": "light"
     },
     "output_type": "display_data"
    }
   ],
   "source": [
    "# we will look at distrubution for year_of_publication\n",
    "sns.distplot(books.year_of_publication, color = 'red')\n",
    "plt.rcParams['figure.figsize'] = [7, 5]\n",
    "max_year_books = books.year_of_publication.max()\n",
    "min_year_books = books.year_of_publication.min()\n",
    "print(\" Max year_of_publication is :\" +str(max_year_books))\n",
    "print(\" Min year_of_publication is :\" +str(min_year_books))"
   ]
  },
  {
   "cell_type": "markdown",
   "metadata": {},
   "source": [
    "> As we can see in the chart we have outliers.\n",
    ">\n",
    "> We have future published books in our data!"
   ]
  },
  {
   "cell_type": "code",
   "execution_count": 32,
   "metadata": {},
   "outputs": [
    {
     "name": "stdout",
     "output_type": "stream",
     "text": [
      "Length of books dataset before removal: 271379\n",
      "Length of books dataset after removal: 271305\n"
     ]
    }
   ],
   "source": [
    "historical_books = books[books.year_of_publication<1800]\n",
    "books_from_the_future = books[books.year_of_publication>2004] \n",
    "# our data has published in 2004 so we could not have publushed books after 2004.\n",
    "# And we will revove those data from our data set.\n",
    "\n",
    "print(f'Length of books dataset before removal: {len(books)}')\n",
    "books = books.loc[~(books.isbn.isin(historical_books.isbn))] # remove historical books\n",
    "books = books.loc[~(books.isbn.isin(books_from_the_future.isbn))] # remove historical books\n",
    "print(f'Length of books dataset after removal: {len(books)}')"
   ]
  },
  {
   "cell_type": "code",
   "execution_count": 33,
   "metadata": {},
   "outputs": [
    {
     "name": "stdout",
     "output_type": "stream",
     "text": [
      "There is no duplicated book.\n"
     ]
    }
   ],
   "source": [
    "uniq_books = books.isbn.nunique()\n",
    "all_books = books.isbn.count()\n",
    "if uniq_books == all_books:\n",
    "    print(\"There is no duplicated book.\")\n",
    "else:\n",
    "    print(\"There are some duplicated books : \" + str(all_books - uniq_books) )"
   ]
  },
  {
   "cell_type": "code",
   "execution_count": 34,
   "metadata": {},
   "outputs": [
    {
     "data": {
      "text/plain": [
       "0"
      ]
     },
     "execution_count": 34,
     "metadata": {},
     "output_type": "execute_result"
    }
   ],
   "source": [
    "# empty publisher \n",
    "empty_string_publisher = books[books.publisher == ''].publisher.count()\n",
    "empty_string_publisher"
   ]
  },
  {
   "cell_type": "code",
   "execution_count": 35,
   "metadata": {},
   "outputs": [
    {
     "data": {
      "text/plain": [
       "0"
      ]
     },
     "execution_count": 35,
     "metadata": {},
     "output_type": "execute_result"
    }
   ],
   "source": [
    "# empty author \n",
    "empty_string_author = books[books.book_author == ''].book_author.count()\n",
    "empty_string_author"
   ]
  },
  {
   "cell_type": "markdown",
   "metadata": {},
   "source": [
    ">Our isbn code is important for use future modeling so they are unique but we can take look with same book. Maybe they have different isbn code. If it is different we should change them. When we modeling our data it will provide make better prediction. Because of they are same book.\n"
   ]
  },
  {
   "cell_type": "code",
   "execution_count": 36,
   "metadata": {},
   "outputs": [
    {
     "data": {
      "text/html": [
       "<div>\n",
       "<style scoped>\n",
       "    .dataframe tbody tr th:only-of-type {\n",
       "        vertical-align: middle;\n",
       "    }\n",
       "\n",
       "    .dataframe tbody tr th {\n",
       "        vertical-align: top;\n",
       "    }\n",
       "\n",
       "    .dataframe thead th {\n",
       "        text-align: right;\n",
       "    }\n",
       "</style>\n",
       "<table border=\"1\" class=\"dataframe\">\n",
       "  <thead>\n",
       "    <tr style=\"text-align: right;\">\n",
       "      <th></th>\n",
       "      <th>isbn</th>\n",
       "      <th>book_title</th>\n",
       "      <th>book_author</th>\n",
       "      <th>year_of_publication</th>\n",
       "      <th>publisher</th>\n",
       "    </tr>\n",
       "  </thead>\n",
       "  <tbody>\n",
       "    <tr>\n",
       "      <th>2959</th>\n",
       "      <td>156619301X</td>\n",
       "      <td>Dracula</td>\n",
       "      <td>Bram Stoker</td>\n",
       "      <td>1994.0</td>\n",
       "      <td>Dorset Press</td>\n",
       "    </tr>\n",
       "    <tr>\n",
       "      <th>5332</th>\n",
       "      <td>055321148X</td>\n",
       "      <td>Dracula</td>\n",
       "      <td>Bram Stoker</td>\n",
       "      <td>1983.0</td>\n",
       "      <td>Bantam</td>\n",
       "    </tr>\n",
       "    <tr>\n",
       "      <th>12754</th>\n",
       "      <td>9875021245</td>\n",
       "      <td>Dracula</td>\n",
       "      <td>Bram Stoker</td>\n",
       "      <td>2004.0</td>\n",
       "      <td>Distal</td>\n",
       "    </tr>\n",
       "    <tr>\n",
       "      <th>12989</th>\n",
       "      <td>0140052801</td>\n",
       "      <td>Dracula</td>\n",
       "      <td>Bram Stoker</td>\n",
       "      <td>1992.0</td>\n",
       "      <td>Penguin USA</td>\n",
       "    </tr>\n",
       "    <tr>\n",
       "      <th>52118</th>\n",
       "      <td>0451175816</td>\n",
       "      <td>Dracula</td>\n",
       "      <td>Bram Stoker</td>\n",
       "      <td>1992.0</td>\n",
       "      <td>New Amer Library Classics</td>\n",
       "    </tr>\n",
       "    <tr>\n",
       "      <th>61619</th>\n",
       "      <td>0880299010</td>\n",
       "      <td>Dracula</td>\n",
       "      <td>Bram Stoker</td>\n",
       "      <td>1992.0</td>\n",
       "      <td>Barnes Noble Books</td>\n",
       "    </tr>\n",
       "    <tr>\n",
       "      <th>68984</th>\n",
       "      <td>8481301183</td>\n",
       "      <td>Dracula</td>\n",
       "      <td>Bram Stocker</td>\n",
       "      <td>2001.0</td>\n",
       "      <td>Colleccion Millenium</td>\n",
       "    </tr>\n",
       "    <tr>\n",
       "      <th>72475</th>\n",
       "      <td>1562542621</td>\n",
       "      <td>Dracula</td>\n",
       "      <td>Emily Hutchinson</td>\n",
       "      <td>1998.0</td>\n",
       "      <td>Saddleback Publishing, Inc.</td>\n",
       "    </tr>\n",
       "    <tr>\n",
       "      <th>82832</th>\n",
       "      <td>0515053473</td>\n",
       "      <td>Dracula</td>\n",
       "      <td>Bram Stoker</td>\n",
       "      <td>1979.0</td>\n",
       "      <td>Berkley Pub Group (Mm)</td>\n",
       "    </tr>\n",
       "    <tr>\n",
       "      <th>92503</th>\n",
       "      <td>0863221432</td>\n",
       "      <td>Dracula</td>\n",
       "      <td>Bram Stoker</td>\n",
       "      <td>1992.0</td>\n",
       "      <td>Brandon/Mount Eagle</td>\n",
       "    </tr>\n",
       "    <tr>\n",
       "      <th>106667</th>\n",
       "      <td>0453007864</td>\n",
       "      <td>Dracula</td>\n",
       "      <td>Bram Stoker</td>\n",
       "      <td>1992.0</td>\n",
       "      <td>Penguin Highbridge Audio</td>\n",
       "    </tr>\n",
       "    <tr>\n",
       "      <th>110055</th>\n",
       "      <td>0439101344</td>\n",
       "      <td>Dracula</td>\n",
       "      <td>Bram Stoker</td>\n",
       "      <td>2001.0</td>\n",
       "      <td>Scholastic Paperbacks (Mm)</td>\n",
       "    </tr>\n",
       "    <tr>\n",
       "      <th>116085</th>\n",
       "      <td>8401492009</td>\n",
       "      <td>Dracula</td>\n",
       "      <td>Bram Stoker</td>\n",
       "      <td>1993.0</td>\n",
       "      <td>Plaza &amp;amp Janes Editores, S.A.</td>\n",
       "    </tr>\n",
       "    <tr>\n",
       "      <th>116858</th>\n",
       "      <td>0312863586</td>\n",
       "      <td>Dracula</td>\n",
       "      <td>Bram Stoker</td>\n",
       "      <td>1997.0</td>\n",
       "      <td>Tor Books</td>\n",
       "    </tr>\n",
       "    <tr>\n",
       "      <th>134579</th>\n",
       "      <td>0893757829</td>\n",
       "      <td>Dracula</td>\n",
       "      <td>Bram Stoker</td>\n",
       "      <td>1993.0</td>\n",
       "      <td>Troll Communications</td>\n",
       "    </tr>\n",
       "    <tr>\n",
       "      <th>139831</th>\n",
       "      <td>014017186X</td>\n",
       "      <td>Dracula</td>\n",
       "      <td>Bram Stoker</td>\n",
       "      <td>1992.0</td>\n",
       "      <td>Penguin Books Ltd</td>\n",
       "    </tr>\n",
       "    <tr>\n",
       "      <th>158480</th>\n",
       "      <td>1404336540</td>\n",
       "      <td>Dracula</td>\n",
       "      <td>Bram Stoker</td>\n",
       "      <td>2002.0</td>\n",
       "      <td>IndyPublish.com</td>\n",
       "    </tr>\n",
       "    <tr>\n",
       "      <th>167612</th>\n",
       "      <td>8448700058</td>\n",
       "      <td>Dracula</td>\n",
       "      <td>Bram Stoker</td>\n",
       "      <td>1995.0</td>\n",
       "      <td>Altaya</td>\n",
       "    </tr>\n",
       "    <tr>\n",
       "      <th>176721</th>\n",
       "      <td>0812504429</td>\n",
       "      <td>Dracula</td>\n",
       "      <td>Books Tor</td>\n",
       "      <td>1990.0</td>\n",
       "      <td>Tor Books</td>\n",
       "    </tr>\n",
       "    <tr>\n",
       "      <th>217531</th>\n",
       "      <td>0573608229</td>\n",
       "      <td>Dracula</td>\n",
       "      <td>Hamilton Deane</td>\n",
       "      <td>1999.0</td>\n",
       "      <td>Samuel French</td>\n",
       "    </tr>\n",
       "  </tbody>\n",
       "</table>\n",
       "</div>"
      ],
      "text/plain": [
       "              isbn book_title       book_author  year_of_publication  \\\n",
       "2959    156619301X    Dracula       Bram Stoker               1994.0   \n",
       "5332    055321148X    Dracula       Bram Stoker               1983.0   \n",
       "12754   9875021245    Dracula       Bram Stoker               2004.0   \n",
       "12989   0140052801    Dracula       Bram Stoker               1992.0   \n",
       "52118   0451175816    Dracula       Bram Stoker               1992.0   \n",
       "61619   0880299010    Dracula       Bram Stoker               1992.0   \n",
       "68984   8481301183    Dracula      Bram Stocker               2001.0   \n",
       "72475   1562542621    Dracula  Emily Hutchinson               1998.0   \n",
       "82832   0515053473    Dracula       Bram Stoker               1979.0   \n",
       "92503   0863221432    Dracula       Bram Stoker               1992.0   \n",
       "106667  0453007864    Dracula       Bram Stoker               1992.0   \n",
       "110055  0439101344    Dracula       Bram Stoker               2001.0   \n",
       "116085  8401492009    Dracula       Bram Stoker               1993.0   \n",
       "116858  0312863586    Dracula       Bram Stoker               1997.0   \n",
       "134579  0893757829    Dracula       Bram Stoker               1993.0   \n",
       "139831  014017186X    Dracula       Bram Stoker               1992.0   \n",
       "158480  1404336540    Dracula       Bram Stoker               2002.0   \n",
       "167612  8448700058    Dracula       Bram Stoker               1995.0   \n",
       "176721  0812504429    Dracula         Books Tor               1990.0   \n",
       "217531  0573608229    Dracula    Hamilton Deane               1999.0   \n",
       "\n",
       "                              publisher  \n",
       "2959                       Dorset Press  \n",
       "5332                             Bantam  \n",
       "12754                            Distal  \n",
       "12989                       Penguin USA  \n",
       "52118         New Amer Library Classics  \n",
       "61619                Barnes Noble Books  \n",
       "68984              Colleccion Millenium  \n",
       "72475       Saddleback Publishing, Inc.  \n",
       "82832            Berkley Pub Group (Mm)  \n",
       "92503               Brandon/Mount Eagle  \n",
       "106667         Penguin Highbridge Audio  \n",
       "110055       Scholastic Paperbacks (Mm)  \n",
       "116085  Plaza &amp Janes Editores, S.A.  \n",
       "116858                        Tor Books  \n",
       "134579             Troll Communications  \n",
       "139831                Penguin Books Ltd  \n",
       "158480                  IndyPublish.com  \n",
       "167612                           Altaya  \n",
       "176721                        Tor Books  \n",
       "217531                    Samuel French  "
      ]
     },
     "execution_count": 36,
     "metadata": {},
     "output_type": "execute_result"
    }
   ],
   "source": [
    "# Now we will chose one book and look our isbn code.\n",
    "books[books.book_title=='Dracula']"
   ]
  },
  {
   "cell_type": "code",
   "execution_count": null,
   "metadata": {},
   "outputs": [],
   "source": []
  },
  {
   "cell_type": "code",
   "execution_count": 37,
   "metadata": {},
   "outputs": [],
   "source": [
    "# Above chart indicate to us same book has different isbn it is problem for we should change that. We will do in modeling part."
   ]
  },
  {
   "cell_type": "markdown",
   "metadata": {},
   "source": [
    "### Third, We will explore Book_Ratings data frame.\n"
   ]
  },
  {
   "cell_type": "code",
   "execution_count": 38,
   "metadata": {},
   "outputs": [
    {
     "data": {
      "text/html": [
       "<div>\n",
       "<style scoped>\n",
       "    .dataframe tbody tr th:only-of-type {\n",
       "        vertical-align: middle;\n",
       "    }\n",
       "\n",
       "    .dataframe tbody tr th {\n",
       "        vertical-align: top;\n",
       "    }\n",
       "\n",
       "    .dataframe thead th {\n",
       "        text-align: right;\n",
       "    }\n",
       "</style>\n",
       "<table border=\"1\" class=\"dataframe\">\n",
       "  <thead>\n",
       "    <tr style=\"text-align: right;\">\n",
       "      <th></th>\n",
       "      <th>user_id</th>\n",
       "      <th>isbn</th>\n",
       "      <th>book_rating</th>\n",
       "    </tr>\n",
       "  </thead>\n",
       "  <tbody>\n",
       "    <tr>\n",
       "      <th>0</th>\n",
       "      <td>276725</td>\n",
       "      <td>034545104X</td>\n",
       "      <td>0</td>\n",
       "    </tr>\n",
       "    <tr>\n",
       "      <th>1</th>\n",
       "      <td>276726</td>\n",
       "      <td>0155061224</td>\n",
       "      <td>5</td>\n",
       "    </tr>\n",
       "    <tr>\n",
       "      <th>2</th>\n",
       "      <td>276727</td>\n",
       "      <td>0446520802</td>\n",
       "      <td>0</td>\n",
       "    </tr>\n",
       "    <tr>\n",
       "      <th>3</th>\n",
       "      <td>276729</td>\n",
       "      <td>052165615X</td>\n",
       "      <td>3</td>\n",
       "    </tr>\n",
       "    <tr>\n",
       "      <th>4</th>\n",
       "      <td>276729</td>\n",
       "      <td>0521795028</td>\n",
       "      <td>6</td>\n",
       "    </tr>\n",
       "  </tbody>\n",
       "</table>\n",
       "</div>"
      ],
      "text/plain": [
       "   user_id        isbn  book_rating\n",
       "0   276725  034545104X            0\n",
       "1   276726  0155061224            5\n",
       "2   276727  0446520802            0\n",
       "3   276729  052165615X            3\n",
       "4   276729  0521795028            6"
      ]
     },
     "execution_count": 38,
     "metadata": {},
     "output_type": "execute_result"
    }
   ],
   "source": [
    "book_ratings.head()"
   ]
  },
  {
   "cell_type": "code",
   "execution_count": 39,
   "metadata": {},
   "outputs": [
    {
     "name": "stdout",
     "output_type": "stream",
     "text": [
      " Max book_rating is :10\n",
      " Min book_rating is :0\n"
     ]
    },
    {
     "data": {
      "image/png": "[encoded data removed]",
      "text/plain": [
       "<Figure size 504x360 with 1 Axes>"
      ]
     },
     "metadata": {
      "needs_background": "light"
     },
     "output_type": "display_data"
    }
   ],
   "source": [
    "sns.distplot(book_ratings.book_rating, color = 'red')\n",
    "plt.rcParams['figure.figsize'] = [7, 5]\n",
    "max_book_rating = book_ratings.book_rating.max()\n",
    "min_book_rating = book_ratings.book_rating.min()\n",
    "print(\" Max book_rating is :\" +str(max_book_rating))\n",
    "print(\" Min book_rating is :\" +str(min_book_rating))"
   ]
  },
  {
   "cell_type": "code",
   "execution_count": 40,
   "metadata": {},
   "outputs": [
    {
     "name": "stdout",
     "output_type": "stream",
     "text": [
      "Before Len of book_ratings : 1149780\n",
      "After Len of book_ratings : 433671\n",
      "We lost % 62.28 of data\n"
     ]
    }
   ],
   "source": [
    "# For the modeling step we'll only be looking at explicit ratings, and so the 0 rating entry rows will be removed.\n",
    "len_before = len(book_ratings)\n",
    "print('Before Len of book_ratings : '+ str(len_before))\n",
    "\n",
    "book_ratings = book_ratings[book_ratings.book_rating != 0]\n",
    "\n",
    "len_after = len(book_ratings)\n",
    "print('After Len of book_ratings : '+ str(len_after))\n",
    "\n",
    "rate = \"{:.2f}\".format((((len_before-len_after)*100)/len_before)) \n",
    "    \n",
    "print('We lost % '+str(rate) + ' of data')"
   ]
  },
  {
   "cell_type": "code",
   "execution_count": 41,
   "metadata": {},
   "outputs": [
    {
     "name": "stdout",
     "output_type": "stream",
     "text": [
      " Max book_rating is :10\n",
      " Min book_rating is :1\n"
     ]
    },
    {
     "data": {
      "image/png": "[encoded data removed]",
      "text/plain": [
       "<Figure size 504x360 with 1 Axes>"
      ]
     },
     "metadata": {
      "needs_background": "light"
     },
     "output_type": "display_data"
    }
   ],
   "source": [
    "sns.distplot(book_ratings.book_rating, color = 'red')\n",
    "plt.rcParams['figure.figsize'] = [7, 5]\n",
    "max_book_rating = book_ratings.book_rating.max()\n",
    "min_book_rating = book_ratings.book_rating.min()\n",
    "print(\" Max book_rating is :\" +str(max_book_rating))\n",
    "print(\" Min book_rating is :\" +str(min_book_rating))"
   ]
  },
  {
   "cell_type": "code",
   "execution_count": 42,
   "metadata": {},
   "outputs": [
    {
     "name": "stdout",
     "output_type": "stream",
     "text": [
      "The 20 users with the most ratings:\n",
      "user_id\n",
      "11676     8524\n",
      "98391     5802\n",
      "153662    1969\n",
      "189835    1906\n",
      "23902     1395\n",
      "76499     1036\n",
      "171118    1035\n",
      "235105    1023\n",
      "16795      968\n",
      "248718     948\n",
      "56399      911\n",
      "35859      829\n",
      "63714      811\n",
      "197659     806\n",
      "185233     723\n",
      "95359      619\n",
      "114368     614\n",
      "101851     591\n",
      "177458     584\n",
      "158295     569\n",
      "Name: isbn, dtype: int64\n"
     ]
    }
   ],
   "source": [
    "super_users = book_ratings.groupby('user_id').isbn.count().sort_values(ascending=False)\n",
    "print(f'The 20 users with the most ratings:\\n{super_users[:20]}')"
   ]
  },
  {
   "cell_type": "markdown",
   "metadata": {},
   "source": [
    "<a id='eda'></a>\n",
    "## Exploratory Data Analysis"
   ]
  },
  {
   "cell_type": "markdown",
   "metadata": {},
   "source": [
    "#### 1) What are the 10 publishers with the most entries in the books table?"
   ]
  },
  {
   "cell_type": "code",
   "execution_count": 43,
   "metadata": {},
   "outputs": [
    {
     "name": "stdout",
     "output_type": "stream",
     "text": [
      "The 10 publishers with the most entries in the books table are:\n",
      "Harlequin                   7536\n",
      "Silhouette                  4220\n",
      "Pocket                      3903\n",
      "Ballantine Books            3783\n",
      "Bantam Books                3647\n",
      "Scholastic                  3159\n",
      "Simon &amp Schuster         2968\n",
      "Penguin Books               2844\n",
      "Berkley Publishing Group    2771\n",
      "Warner Books                2727\n",
      "Name: publisher, dtype: int64\n"
     ]
    }
   ],
   "source": [
    "top_publishers = books.publisher.value_counts()[:10]\n",
    "print(f'The 10 publishers with the most entries in the books table are:\\n{top_publishers}')"
   ]
  },
  {
   "cell_type": "markdown",
   "metadata": {},
   "source": [
    "#### 2) What are the 10 authors with the most entries in the book table? "
   ]
  },
  {
   "cell_type": "code",
   "execution_count": 44,
   "metadata": {},
   "outputs": [
    {
     "name": "stdout",
     "output_type": "stream",
     "text": [
      "The 10 authors with the most entries in the books table are:\n",
      "Agatha Christie        632\n",
      "William Shakespeare    566\n",
      "Stephen King           524\n",
      "Ann M. Martin          423\n",
      "Francine Pascal        373\n",
      "Carolyn Keene          373\n",
      "Isaac Asimov           330\n",
      "Nora Roberts           315\n",
      "Barbara Cartland       307\n",
      "Charles Dickens        302\n",
      "Name: book_author, dtype: int64\n"
     ]
    }
   ],
   "source": [
    "top_authors = books.book_author.value_counts()[:10]\n",
    "print(f'The 10 authors with the most entries in the books table are:\\n{top_authors}')"
   ]
  },
  {
   "cell_type": "markdown",
   "metadata": {},
   "source": [
    "#### 3) What are the 10 book titles with the most entries in the book table? "
   ]
  },
  {
   "cell_type": "code",
   "execution_count": 45,
   "metadata": {},
   "outputs": [
    {
     "name": "stdout",
     "output_type": "stream",
     "text": [
      "The 10 book titles with the most entries in the books table are:\n",
      "Selected Poems                    27\n",
      "Little Women                      24\n",
      "Wuthering Heights                 21\n",
      "The Secret Garden                 20\n",
      "Adventures of Huckleberry Finn    20\n",
      "Dracula                           20\n",
      "Jane Eyre                         19\n",
      "The Night Before Christmas        18\n",
      "Pride and Prejudice               18\n",
      "Great Expectations                17\n",
      "Name: book_title, dtype: int64\n"
     ]
    }
   ],
   "source": [
    "top_titles = books.book_title.value_counts()[:10]\n",
    "print(f'The 10 book titles with the most entries in the books table are:\\n{top_titles}')"
   ]
  },
  {
   "cell_type": "markdown",
   "metadata": {},
   "source": [
    "#### 4) What are the 15 users with the most ratings?"
   ]
  },
  {
   "cell_type": "code",
   "execution_count": 46,
   "metadata": {},
   "outputs": [
    {
     "name": "stdout",
     "output_type": "stream",
     "text": [
      "The 15 users with the most ratings:\n",
      "user_id\n",
      "11676     8524\n",
      "98391     5802\n",
      "153662    1969\n",
      "189835    1906\n",
      "23902     1395\n",
      "76499     1036\n",
      "171118    1035\n",
      "235105    1023\n",
      "16795      968\n",
      "248718     948\n",
      "56399      911\n",
      "35859      829\n",
      "63714      811\n",
      "197659     806\n",
      "185233     723\n",
      "Name: isbn, dtype: int64\n"
     ]
    }
   ],
   "source": [
    "super_users = book_ratings.groupby('user_id').isbn.count().sort_values(ascending=False)\n",
    "print(f'The 15 users with the most ratings:\\n{super_users[:15]}')"
   ]
  },
  {
   "cell_type": "markdown",
   "metadata": {},
   "source": [
    "#### 5) which books have the highest cumulative book rating values?"
   ]
  },
  {
   "cell_type": "code",
   "execution_count": 47,
   "metadata": {},
   "outputs": [
    {
     "name": "stdout",
     "output_type": "stream",
     "text": [
      "Books table size: 271305\n",
      "Ratings table size: 433671\n",
      "New table size: 433671\n"
     ]
    }
   ],
   "source": [
    "# We will join firstly book data frame and book ratings data frame.\n",
    "print(f'Books table size: {len(books)}')\n",
    "print(f'Ratings table size: {len(book_ratings)}')\n",
    "books_with_ratings = book_ratings.join(books.set_index('isbn'), on='isbn')\n",
    "print(f'New table size: {len(books_with_ratings)}')"
   ]
  },
  {
   "cell_type": "code",
   "execution_count": 48,
   "metadata": {},
   "outputs": [
    {
     "data": {
      "text/html": [
       "<div>\n",
       "<style scoped>\n",
       "    .dataframe tbody tr th:only-of-type {\n",
       "        vertical-align: middle;\n",
       "    }\n",
       "\n",
       "    .dataframe tbody tr th {\n",
       "        vertical-align: top;\n",
       "    }\n",
       "\n",
       "    .dataframe thead th {\n",
       "        text-align: right;\n",
       "    }\n",
       "</style>\n",
       "<table border=\"1\" class=\"dataframe\">\n",
       "  <thead>\n",
       "    <tr style=\"text-align: right;\">\n",
       "      <th></th>\n",
       "      <th>user_id</th>\n",
       "      <th>isbn</th>\n",
       "      <th>book_rating</th>\n",
       "      <th>book_title</th>\n",
       "      <th>book_author</th>\n",
       "      <th>year_of_publication</th>\n",
       "      <th>publisher</th>\n",
       "    </tr>\n",
       "  </thead>\n",
       "  <tbody>\n",
       "    <tr>\n",
       "      <th>1</th>\n",
       "      <td>276726</td>\n",
       "      <td>0155061224</td>\n",
       "      <td>5</td>\n",
       "      <td>Rites of Passage</td>\n",
       "      <td>Judith Rae</td>\n",
       "      <td>2001.0</td>\n",
       "      <td>Heinle</td>\n",
       "    </tr>\n",
       "    <tr>\n",
       "      <th>3</th>\n",
       "      <td>276729</td>\n",
       "      <td>052165615X</td>\n",
       "      <td>3</td>\n",
       "      <td>Help!: Level 1</td>\n",
       "      <td>Philip Prowse</td>\n",
       "      <td>1999.0</td>\n",
       "      <td>Cambridge University Press</td>\n",
       "    </tr>\n",
       "    <tr>\n",
       "      <th>4</th>\n",
       "      <td>276729</td>\n",
       "      <td>0521795028</td>\n",
       "      <td>6</td>\n",
       "      <td>The Amsterdam Connection : Level 4 (Cambridge ...</td>\n",
       "      <td>Sue Leather</td>\n",
       "      <td>2001.0</td>\n",
       "      <td>Cambridge University Press</td>\n",
       "    </tr>\n",
       "    <tr>\n",
       "      <th>6</th>\n",
       "      <td>276736</td>\n",
       "      <td>3257224281</td>\n",
       "      <td>8</td>\n",
       "      <td>NaN</td>\n",
       "      <td>NaN</td>\n",
       "      <td>NaN</td>\n",
       "      <td>NaN</td>\n",
       "    </tr>\n",
       "    <tr>\n",
       "      <th>7</th>\n",
       "      <td>276737</td>\n",
       "      <td>0600570967</td>\n",
       "      <td>6</td>\n",
       "      <td>NaN</td>\n",
       "      <td>NaN</td>\n",
       "      <td>NaN</td>\n",
       "      <td>NaN</td>\n",
       "    </tr>\n",
       "  </tbody>\n",
       "</table>\n",
       "</div>"
      ],
      "text/plain": [
       "   user_id        isbn  book_rating  \\\n",
       "1   276726  0155061224            5   \n",
       "3   276729  052165615X            3   \n",
       "4   276729  0521795028            6   \n",
       "6   276736  3257224281            8   \n",
       "7   276737  0600570967            6   \n",
       "\n",
       "                                          book_title    book_author  \\\n",
       "1                                   Rites of Passage     Judith Rae   \n",
       "3                                     Help!: Level 1  Philip Prowse   \n",
       "4  The Amsterdam Connection : Level 4 (Cambridge ...    Sue Leather   \n",
       "6                                                NaN            NaN   \n",
       "7                                                NaN            NaN   \n",
       "\n",
       "   year_of_publication                   publisher  \n",
       "1               2001.0                      Heinle  \n",
       "3               1999.0  Cambridge University Press  \n",
       "4               2001.0  Cambridge University Press  \n",
       "6                  NaN                         NaN  \n",
       "7                  NaN                         NaN  "
      ]
     },
     "execution_count": 48,
     "metadata": {},
     "output_type": "execute_result"
    }
   ],
   "source": [
    "books_with_ratings.head()"
   ]
  },
  {
   "cell_type": "code",
   "execution_count": 49,
   "metadata": {},
   "outputs": [
    {
     "name": "stdout",
     "output_type": "stream",
     "text": [
      "<class 'pandas.core.frame.DataFrame'>\n",
      "Int64Index: 433671 entries, 1 to 1149779\n",
      "Data columns (total 7 columns):\n",
      " #   Column               Non-Null Count   Dtype  \n",
      "---  ------               --------------   -----  \n",
      " 0   user_id              433671 non-null  int64  \n",
      " 1   isbn                 433671 non-null  object \n",
      " 2   book_rating          433671 non-null  int64  \n",
      " 3   book_title           383765 non-null  object \n",
      " 4   book_author          383764 non-null  object \n",
      " 5   year_of_publication  377980 non-null  float64\n",
      " 6   publisher            383763 non-null  object \n",
      "dtypes: float64(1), int64(2), object(4)\n",
      "memory usage: 26.5+ MB\n"
     ]
    }
   ],
   "source": [
    "books_with_ratings.info()"
   ]
  },
  {
   "cell_type": "code",
   "execution_count": 50,
   "metadata": {},
   "outputs": [
    {
     "data": {
      "image/png": "[encoded data removed]",
      "text/plain": [
       "<Figure size 720x360 with 1 Axes>"
      ]
     },
     "metadata": {
      "needs_background": "light"
     },
     "output_type": "display_data"
    }
   ],
   "source": [
    "cm_rtg = books_with_ratings.groupby('book_title').book_rating.sum()\n",
    "cm_rtg = cm_rtg.sort_values(ascending=False)[:10]\n",
    "idx = cm_rtg.index.tolist() # Get sorted book titles\n",
    "vals = cm_rtg.values.tolist() # Get corresponding cm_rtg values\n",
    "\n",
    "plt.figure(figsize=(10, 5))\n",
    "plt.rcParams.update({'font.size': 15})\n",
    "plt.bar(range(len(idx)), vals)\n",
    "plt.xticks(range(len(idx)), idx, rotation='vertical')\n",
    "plt.ylabel('cumulative rating score')\n",
    "plt.show()"
   ]
  },
  {
   "cell_type": "markdown",
   "metadata": {},
   "source": [
    "#### 6) What about the highest average ratings with a minimum of at least 100 ratings received ? "
   ]
  },
  {
   "cell_type": "code",
   "execution_count": 51,
   "metadata": {},
   "outputs": [
    {
     "data": {
      "text/plain": [
       "book_title\n",
       "The Two Towers (The Lord of the Rings, Part 2)                      9.330882\n",
       "The Return of the King (The Lord of the Rings, Part 3)              9.213592\n",
       "Harry Potter and the Goblet of Fire (Book 4)                        9.125506\n",
       "Harry Potter and the Sorcerer's Stone (Book 1)                      9.062500\n",
       "Harry Potter and the Order of the Phoenix (Book 5)                  9.047393\n",
       "Harry Potter and the Prisoner of Azkaban (Book 3)                   9.043321\n",
       "To Kill a Mockingbird                                               8.977528\n",
       "Harry Potter and the Sorcerer's Stone (Harry Potter (Paperback))    8.936508\n",
       "Ender's Game (Ender Wiggins Saga (Paperback))                       8.920530\n",
       "The Fellowship of the Ring (The Lord of the Rings, Part 1)          8.882927\n",
       "Name: book_rating, dtype: float64"
      ]
     },
     "execution_count": 51,
     "metadata": {},
     "output_type": "execute_result"
    }
   ],
   "source": [
    "cutoff = books_with_ratings.book_title.value_counts()\n",
    "mean_rtg = books_with_ratings[books_with_ratings.book_title.isin(cutoff[cutoff>100].index)].groupby('book_title')['book_rating'].mean()\n",
    "mean_rtg.sort_values(ascending=False)[:10] # show only top 10"
   ]
  },
  {
   "cell_type": "markdown",
   "metadata": {},
   "source": [
    "#### How about lowest-rated ?"
   ]
  },
  {
   "cell_type": "code",
   "execution_count": 52,
   "metadata": {},
   "outputs": [
    {
     "data": {
      "text/plain": [
       "book_title\n",
       "Hannibal                                      7.138122\n",
       "We Were the Mulvaneys                         7.057554\n",
       "A Map of the World                            7.025862\n",
       "While I Was Gone                              6.950000\n",
       "The Girls' Guide to Hunting and Fishing       6.945946\n",
       "Full House (Janet Evanovich's Full Series)    6.920354\n",
       "The Last Time They Met : A Novel              6.859155\n",
       "How to Be Good                                6.700000\n",
       "Isle of Dogs                                  5.433962\n",
       "Wild Animus                                   4.390706\n",
       "Name: book_rating, dtype: float64"
      ]
     },
     "execution_count": 52,
     "metadata": {},
     "output_type": "execute_result"
    }
   ],
   "source": [
    "mean_rtg.sort_values(ascending=False)[-10:] # bottom 10 only"
   ]
  },
  {
   "cell_type": "markdown",
   "metadata": {},
   "source": [
    "<a id='ml'></a>\n",
    "## Applying ML Algorithms"
   ]
  },
  {
   "cell_type": "code",
   "execution_count": 53,
   "metadata": {},
   "outputs": [
    {
     "data": {
      "text/plain": [
       "1     125314\n",
       "2       7869\n",
       "3       1497\n",
       "4        494\n",
       "5        180\n",
       "6         86\n",
       "7         45\n",
       "8         26\n",
       "9         11\n",
       "10         8\n",
       "14         5\n",
       "15         2\n",
       "11         2\n",
       "18         1\n",
       "16         1\n",
       "12         1\n",
       "Name: isbn, dtype: int64"
      ]
     },
     "execution_count": 53,
     "metadata": {},
     "output_type": "execute_result"
    }
   ],
   "source": [
    "# As we said before same book has different isbn we sholud create unique isbn for them.\n",
    "# Let's look at isbn that is non unique items based on the book title.\n",
    "multiple_isbns = books_with_ratings.groupby(['book_title']).isbn.nunique()\n",
    "multiple_isbns.value_counts()"
   ]
  },
  {
   "cell_type": "code",
   "execution_count": 54,
   "metadata": {},
   "outputs": [
    {
     "name": "stdout",
     "output_type": "stream",
     "text": [
      "We will create new isbn for 10228  rows\n"
     ]
    }
   ],
   "source": [
    "has_mult_isbns = multiple_isbns.where(multiple_isbns>1)\n",
    "has_mult_isbns.dropna(inplace=True) \n",
    "print(f'We will create new isbn for {len(has_mult_isbns)}  rows')"
   ]
  },
  {
   "cell_type": "code",
   "execution_count": 55,
   "metadata": {},
   "outputs": [
    {
     "name": "stdout",
     "output_type": "stream",
     "text": [
      "Wall time: 6min 5s\n"
     ]
    }
   ],
   "source": [
    "def make_isbn_dict(df):\n",
    "    title_isbn_dict = {}\n",
    "    for title in has_mult_isbns.index:\n",
    "        isbn_series = df.loc[df.book_title==title].isbn.unique() # returns only the unique ISBNs\n",
    "        title_isbn_dict[title] = isbn_series.tolist()\n",
    "    return title_isbn_dict\n",
    "\n",
    "%time dict_unique_isbn = make_isbn_dict(books_with_ratings)"
   ]
  },
  {
   "cell_type": "code",
   "execution_count": 56,
   "metadata": {},
   "outputs": [],
   "source": [
    "# As the loop takes a while to run (8 min on the full dataset), pickle this dict for future use\n",
    "with open('multiple_isbn_dict.pickle', 'wb') as handle:\n",
    "    pickle.dump(dict_unique_isbn, handle, protocol=pickle.HIGHEST_PROTOCOL)"
   ]
  },
  {
   "cell_type": "code",
   "execution_count": 57,
   "metadata": {},
   "outputs": [],
   "source": [
    "# LOAD isbn_dict back into namespace\n",
    "with open('multiple_isbn_dict.pickle', 'rb') as handle:\n",
    "    multiple_isbn_dict = pickle.load(handle)"
   ]
  },
  {
   "cell_type": "code",
   "execution_count": 58,
   "metadata": {},
   "outputs": [
    {
     "name": "stdout",
     "output_type": "stream",
     "text": [
      "Wall time: 12.1 s\n"
     ]
    }
   ],
   "source": [
    "def add_unique_isbn_col(df):\n",
    "    df['unique_isbn'] = df.apply(lambda row: multiple_isbn_dict[row.book_title][0] if row.book_title in multiple_isbn_dict.keys() else row.isbn, axis=1)\n",
    "    return df\n",
    "\n",
    "%time books_with_ratings = add_unique_isbn_col(books_with_ratings)"
   ]
  },
  {
   "cell_type": "code",
   "execution_count": 59,
   "metadata": {},
   "outputs": [
    {
     "data": {
      "text/html": [
       "<div>\n",
       "<style scoped>\n",
       "    .dataframe tbody tr th:only-of-type {\n",
       "        vertical-align: middle;\n",
       "    }\n",
       "\n",
       "    .dataframe tbody tr th {\n",
       "        vertical-align: top;\n",
       "    }\n",
       "\n",
       "    .dataframe thead th {\n",
       "        text-align: right;\n",
       "    }\n",
       "</style>\n",
       "<table border=\"1\" class=\"dataframe\">\n",
       "  <thead>\n",
       "    <tr style=\"text-align: right;\">\n",
       "      <th></th>\n",
       "      <th>user_id</th>\n",
       "      <th>isbn</th>\n",
       "      <th>book_rating</th>\n",
       "      <th>book_title</th>\n",
       "      <th>book_author</th>\n",
       "      <th>year_of_publication</th>\n",
       "      <th>publisher</th>\n",
       "      <th>unique_isbn</th>\n",
       "    </tr>\n",
       "  </thead>\n",
       "  <tbody>\n",
       "    <tr>\n",
       "      <th>46242</th>\n",
       "      <td>11676</td>\n",
       "      <td>0140052801</td>\n",
       "      <td>9</td>\n",
       "      <td>Dracula</td>\n",
       "      <td>Bram Stoker</td>\n",
       "      <td>1992.0</td>\n",
       "      <td>Penguin USA</td>\n",
       "      <td>0140052801</td>\n",
       "    </tr>\n",
       "    <tr>\n",
       "      <th>47002</th>\n",
       "      <td>11676</td>\n",
       "      <td>0312863586</td>\n",
       "      <td>10</td>\n",
       "      <td>Dracula</td>\n",
       "      <td>Bram Stoker</td>\n",
       "      <td>1997.0</td>\n",
       "      <td>Tor Books</td>\n",
       "      <td>0140052801</td>\n",
       "    </tr>\n",
       "    <tr>\n",
       "      <th>60372</th>\n",
       "      <td>12194</td>\n",
       "      <td>0140052801</td>\n",
       "      <td>10</td>\n",
       "      <td>Dracula</td>\n",
       "      <td>Bram Stoker</td>\n",
       "      <td>1992.0</td>\n",
       "      <td>Penguin USA</td>\n",
       "      <td>0140052801</td>\n",
       "    </tr>\n",
       "    <tr>\n",
       "      <th>128150</th>\n",
       "      <td>29743</td>\n",
       "      <td>055321148X</td>\n",
       "      <td>6</td>\n",
       "      <td>Dracula</td>\n",
       "      <td>Bram Stoker</td>\n",
       "      <td>1983.0</td>\n",
       "      <td>Bantam</td>\n",
       "      <td>0140052801</td>\n",
       "    </tr>\n",
       "    <tr>\n",
       "      <th>142710</th>\n",
       "      <td>31950</td>\n",
       "      <td>0880299010</td>\n",
       "      <td>9</td>\n",
       "      <td>Dracula</td>\n",
       "      <td>Bram Stoker</td>\n",
       "      <td>1992.0</td>\n",
       "      <td>Barnes Noble Books</td>\n",
       "      <td>0140052801</td>\n",
       "    </tr>\n",
       "    <tr>\n",
       "      <th>170978</th>\n",
       "      <td>37030</td>\n",
       "      <td>1562542621</td>\n",
       "      <td>10</td>\n",
       "      <td>Dracula</td>\n",
       "      <td>Emily Hutchinson</td>\n",
       "      <td>1998.0</td>\n",
       "      <td>Saddleback Publishing, Inc.</td>\n",
       "      <td>0140052801</td>\n",
       "    </tr>\n",
       "    <tr>\n",
       "      <th>197596</th>\n",
       "      <td>43878</td>\n",
       "      <td>0880299010</td>\n",
       "      <td>10</td>\n",
       "      <td>Dracula</td>\n",
       "      <td>Bram Stoker</td>\n",
       "      <td>1992.0</td>\n",
       "      <td>Barnes Noble Books</td>\n",
       "      <td>0140052801</td>\n",
       "    </tr>\n",
       "    <tr>\n",
       "      <th>198491</th>\n",
       "      <td>44252</td>\n",
       "      <td>0451175816</td>\n",
       "      <td>9</td>\n",
       "      <td>Dracula</td>\n",
       "      <td>Bram Stoker</td>\n",
       "      <td>1992.0</td>\n",
       "      <td>New Amer Library Classics</td>\n",
       "      <td>0140052801</td>\n",
       "    </tr>\n",
       "    <tr>\n",
       "      <th>223758</th>\n",
       "      <td>52256</td>\n",
       "      <td>0880299010</td>\n",
       "      <td>8</td>\n",
       "      <td>Dracula</td>\n",
       "      <td>Bram Stoker</td>\n",
       "      <td>1992.0</td>\n",
       "      <td>Barnes Noble Books</td>\n",
       "      <td>0140052801</td>\n",
       "    </tr>\n",
       "    <tr>\n",
       "      <th>242821</th>\n",
       "      <td>55892</td>\n",
       "      <td>0453007864</td>\n",
       "      <td>9</td>\n",
       "      <td>Dracula</td>\n",
       "      <td>Bram Stoker</td>\n",
       "      <td>1992.0</td>\n",
       "      <td>Penguin Highbridge Audio</td>\n",
       "      <td>0140052801</td>\n",
       "    </tr>\n",
       "    <tr>\n",
       "      <th>271738</th>\n",
       "      <td>63394</td>\n",
       "      <td>0312863586</td>\n",
       "      <td>9</td>\n",
       "      <td>Dracula</td>\n",
       "      <td>Bram Stoker</td>\n",
       "      <td>1997.0</td>\n",
       "      <td>Tor Books</td>\n",
       "      <td>0140052801</td>\n",
       "    </tr>\n",
       "    <tr>\n",
       "      <th>291984</th>\n",
       "      <td>69554</td>\n",
       "      <td>055321148X</td>\n",
       "      <td>10</td>\n",
       "      <td>Dracula</td>\n",
       "      <td>Bram Stoker</td>\n",
       "      <td>1983.0</td>\n",
       "      <td>Bantam</td>\n",
       "      <td>0140052801</td>\n",
       "    </tr>\n",
       "    <tr>\n",
       "      <th>353393</th>\n",
       "      <td>85136</td>\n",
       "      <td>014017186X</td>\n",
       "      <td>8</td>\n",
       "      <td>Dracula</td>\n",
       "      <td>Bram Stoker</td>\n",
       "      <td>1992.0</td>\n",
       "      <td>Penguin Books Ltd</td>\n",
       "      <td>0140052801</td>\n",
       "    </tr>\n",
       "    <tr>\n",
       "      <th>447213</th>\n",
       "      <td>107258</td>\n",
       "      <td>0439101344</td>\n",
       "      <td>8</td>\n",
       "      <td>Dracula</td>\n",
       "      <td>Bram Stoker</td>\n",
       "      <td>2001.0</td>\n",
       "      <td>Scholastic Paperbacks (Mm)</td>\n",
       "      <td>0140052801</td>\n",
       "    </tr>\n",
       "    <tr>\n",
       "      <th>459003</th>\n",
       "      <td>110112</td>\n",
       "      <td>0140052801</td>\n",
       "      <td>7</td>\n",
       "      <td>Dracula</td>\n",
       "      <td>Bram Stoker</td>\n",
       "      <td>1992.0</td>\n",
       "      <td>Penguin USA</td>\n",
       "      <td>0140052801</td>\n",
       "    </tr>\n",
       "    <tr>\n",
       "      <th>492307</th>\n",
       "      <td>117569</td>\n",
       "      <td>8401492009</td>\n",
       "      <td>8</td>\n",
       "      <td>Dracula</td>\n",
       "      <td>Bram Stoker</td>\n",
       "      <td>1993.0</td>\n",
       "      <td>Plaza &amp;amp Janes Editores, S.A.</td>\n",
       "      <td>0140052801</td>\n",
       "    </tr>\n",
       "    <tr>\n",
       "      <th>587192</th>\n",
       "      <td>141819</td>\n",
       "      <td>014017186X</td>\n",
       "      <td>10</td>\n",
       "      <td>Dracula</td>\n",
       "      <td>Bram Stoker</td>\n",
       "      <td>1992.0</td>\n",
       "      <td>Penguin Books Ltd</td>\n",
       "      <td>0140052801</td>\n",
       "    </tr>\n",
       "    <tr>\n",
       "      <th>618975</th>\n",
       "      <td>149908</td>\n",
       "      <td>0140052801</td>\n",
       "      <td>7</td>\n",
       "      <td>Dracula</td>\n",
       "      <td>Bram Stoker</td>\n",
       "      <td>1992.0</td>\n",
       "      <td>Penguin USA</td>\n",
       "      <td>0140052801</td>\n",
       "    </tr>\n",
       "    <tr>\n",
       "      <th>628498</th>\n",
       "      <td>152483</td>\n",
       "      <td>1404336540</td>\n",
       "      <td>8</td>\n",
       "      <td>Dracula</td>\n",
       "      <td>Bram Stoker</td>\n",
       "      <td>2002.0</td>\n",
       "      <td>IndyPublish.com</td>\n",
       "      <td>0140052801</td>\n",
       "    </tr>\n",
       "    <tr>\n",
       "      <th>676074</th>\n",
       "      <td>164533</td>\n",
       "      <td>0453007864</td>\n",
       "      <td>8</td>\n",
       "      <td>Dracula</td>\n",
       "      <td>Bram Stoker</td>\n",
       "      <td>1992.0</td>\n",
       "      <td>Penguin Highbridge Audio</td>\n",
       "      <td>0140052801</td>\n",
       "    </tr>\n",
       "    <tr>\n",
       "      <th>706425</th>\n",
       "      <td>171295</td>\n",
       "      <td>0451175816</td>\n",
       "      <td>9</td>\n",
       "      <td>Dracula</td>\n",
       "      <td>Bram Stoker</td>\n",
       "      <td>1992.0</td>\n",
       "      <td>New Amer Library Classics</td>\n",
       "      <td>0140052801</td>\n",
       "    </tr>\n",
       "    <tr>\n",
       "      <th>716221</th>\n",
       "      <td>173503</td>\n",
       "      <td>0451175816</td>\n",
       "      <td>7</td>\n",
       "      <td>Dracula</td>\n",
       "      <td>Bram Stoker</td>\n",
       "      <td>1992.0</td>\n",
       "      <td>New Amer Library Classics</td>\n",
       "      <td>0140052801</td>\n",
       "    </tr>\n",
       "    <tr>\n",
       "      <th>758687</th>\n",
       "      <td>183460</td>\n",
       "      <td>8448700058</td>\n",
       "      <td>9</td>\n",
       "      <td>Dracula</td>\n",
       "      <td>Bram Stoker</td>\n",
       "      <td>1995.0</td>\n",
       "      <td>Altaya</td>\n",
       "      <td>0140052801</td>\n",
       "    </tr>\n",
       "    <tr>\n",
       "      <th>759250</th>\n",
       "      <td>183740</td>\n",
       "      <td>0451175816</td>\n",
       "      <td>9</td>\n",
       "      <td>Dracula</td>\n",
       "      <td>Bram Stoker</td>\n",
       "      <td>1992.0</td>\n",
       "      <td>New Amer Library Classics</td>\n",
       "      <td>0140052801</td>\n",
       "    </tr>\n",
       "    <tr>\n",
       "      <th>776903</th>\n",
       "      <td>188010</td>\n",
       "      <td>0140052801</td>\n",
       "      <td>8</td>\n",
       "      <td>Dracula</td>\n",
       "      <td>Bram Stoker</td>\n",
       "      <td>1992.0</td>\n",
       "      <td>Penguin USA</td>\n",
       "      <td>0140052801</td>\n",
       "    </tr>\n",
       "    <tr>\n",
       "      <th>815210</th>\n",
       "      <td>198515</td>\n",
       "      <td>0893757829</td>\n",
       "      <td>7</td>\n",
       "      <td>Dracula</td>\n",
       "      <td>Bram Stoker</td>\n",
       "      <td>1993.0</td>\n",
       "      <td>Troll Communications</td>\n",
       "      <td>0140052801</td>\n",
       "    </tr>\n",
       "    <tr>\n",
       "      <th>843333</th>\n",
       "      <td>204205</td>\n",
       "      <td>0893757829</td>\n",
       "      <td>10</td>\n",
       "      <td>Dracula</td>\n",
       "      <td>Bram Stoker</td>\n",
       "      <td>1993.0</td>\n",
       "      <td>Troll Communications</td>\n",
       "      <td>0140052801</td>\n",
       "    </tr>\n",
       "    <tr>\n",
       "      <th>867504</th>\n",
       "      <td>209817</td>\n",
       "      <td>0451175816</td>\n",
       "      <td>10</td>\n",
       "      <td>Dracula</td>\n",
       "      <td>Bram Stoker</td>\n",
       "      <td>1992.0</td>\n",
       "      <td>New Amer Library Classics</td>\n",
       "      <td>0140052801</td>\n",
       "    </tr>\n",
       "    <tr>\n",
       "      <th>922194</th>\n",
       "      <td>224646</td>\n",
       "      <td>014017186X</td>\n",
       "      <td>8</td>\n",
       "      <td>Dracula</td>\n",
       "      <td>Bram Stoker</td>\n",
       "      <td>1992.0</td>\n",
       "      <td>Penguin Books Ltd</td>\n",
       "      <td>0140052801</td>\n",
       "    </tr>\n",
       "    <tr>\n",
       "      <th>926832</th>\n",
       "      <td>225378</td>\n",
       "      <td>0451175816</td>\n",
       "      <td>6</td>\n",
       "      <td>Dracula</td>\n",
       "      <td>Bram Stoker</td>\n",
       "      <td>1992.0</td>\n",
       "      <td>New Amer Library Classics</td>\n",
       "      <td>0140052801</td>\n",
       "    </tr>\n",
       "    <tr>\n",
       "      <th>930178</th>\n",
       "      <td>225902</td>\n",
       "      <td>0812504429</td>\n",
       "      <td>7</td>\n",
       "      <td>Dracula</td>\n",
       "      <td>Books Tor</td>\n",
       "      <td>1990.0</td>\n",
       "      <td>Tor Books</td>\n",
       "      <td>0140052801</td>\n",
       "    </tr>\n",
       "    <tr>\n",
       "      <th>972897</th>\n",
       "      <td>234803</td>\n",
       "      <td>8481301183</td>\n",
       "      <td>9</td>\n",
       "      <td>Dracula</td>\n",
       "      <td>Bram Stocker</td>\n",
       "      <td>2001.0</td>\n",
       "      <td>Colleccion Millenium</td>\n",
       "      <td>0140052801</td>\n",
       "    </tr>\n",
       "    <tr>\n",
       "      <th>1016060</th>\n",
       "      <td>243360</td>\n",
       "      <td>0812504429</td>\n",
       "      <td>8</td>\n",
       "      <td>Dracula</td>\n",
       "      <td>Books Tor</td>\n",
       "      <td>1990.0</td>\n",
       "      <td>Tor Books</td>\n",
       "      <td>0140052801</td>\n",
       "    </tr>\n",
       "    <tr>\n",
       "      <th>1046377</th>\n",
       "      <td>250359</td>\n",
       "      <td>0453007864</td>\n",
       "      <td>9</td>\n",
       "      <td>Dracula</td>\n",
       "      <td>Bram Stoker</td>\n",
       "      <td>1992.0</td>\n",
       "      <td>Penguin Highbridge Audio</td>\n",
       "      <td>0140052801</td>\n",
       "    </tr>\n",
       "    <tr>\n",
       "      <th>1078998</th>\n",
       "      <td>258152</td>\n",
       "      <td>0880299010</td>\n",
       "      <td>8</td>\n",
       "      <td>Dracula</td>\n",
       "      <td>Bram Stoker</td>\n",
       "      <td>1992.0</td>\n",
       "      <td>Barnes Noble Books</td>\n",
       "      <td>0140052801</td>\n",
       "    </tr>\n",
       "    <tr>\n",
       "      <th>1105360</th>\n",
       "      <td>265221</td>\n",
       "      <td>0451175816</td>\n",
       "      <td>7</td>\n",
       "      <td>Dracula</td>\n",
       "      <td>Bram Stoker</td>\n",
       "      <td>1992.0</td>\n",
       "      <td>New Amer Library Classics</td>\n",
       "      <td>0140052801</td>\n",
       "    </tr>\n",
       "    <tr>\n",
       "      <th>1113653</th>\n",
       "      <td>266901</td>\n",
       "      <td>0880299010</td>\n",
       "      <td>7</td>\n",
       "      <td>Dracula</td>\n",
       "      <td>Bram Stoker</td>\n",
       "      <td>1992.0</td>\n",
       "      <td>Barnes Noble Books</td>\n",
       "      <td>0140052801</td>\n",
       "    </tr>\n",
       "    <tr>\n",
       "      <th>1140164</th>\n",
       "      <td>274199</td>\n",
       "      <td>0451175816</td>\n",
       "      <td>6</td>\n",
       "      <td>Dracula</td>\n",
       "      <td>Bram Stoker</td>\n",
       "      <td>1992.0</td>\n",
       "      <td>New Amer Library Classics</td>\n",
       "      <td>0140052801</td>\n",
       "    </tr>\n",
       "  </tbody>\n",
       "</table>\n",
       "</div>"
      ],
      "text/plain": [
       "         user_id        isbn  book_rating book_title       book_author  \\\n",
       "46242      11676  0140052801            9    Dracula       Bram Stoker   \n",
       "47002      11676  0312863586           10    Dracula       Bram Stoker   \n",
       "60372      12194  0140052801           10    Dracula       Bram Stoker   \n",
       "128150     29743  055321148X            6    Dracula       Bram Stoker   \n",
       "142710     31950  0880299010            9    Dracula       Bram Stoker   \n",
       "170978     37030  1562542621           10    Dracula  Emily Hutchinson   \n",
       "197596     43878  0880299010           10    Dracula       Bram Stoker   \n",
       "198491     44252  0451175816            9    Dracula       Bram Stoker   \n",
       "223758     52256  0880299010            8    Dracula       Bram Stoker   \n",
       "242821     55892  0453007864            9    Dracula       Bram Stoker   \n",
       "271738     63394  0312863586            9    Dracula       Bram Stoker   \n",
       "291984     69554  055321148X           10    Dracula       Bram Stoker   \n",
       "353393     85136  014017186X            8    Dracula       Bram Stoker   \n",
       "447213    107258  0439101344            8    Dracula       Bram Stoker   \n",
       "459003    110112  0140052801            7    Dracula       Bram Stoker   \n",
       "492307    117569  8401492009            8    Dracula       Bram Stoker   \n",
       "587192    141819  014017186X           10    Dracula       Bram Stoker   \n",
       "618975    149908  0140052801            7    Dracula       Bram Stoker   \n",
       "628498    152483  1404336540            8    Dracula       Bram Stoker   \n",
       "676074    164533  0453007864            8    Dracula       Bram Stoker   \n",
       "706425    171295  0451175816            9    Dracula       Bram Stoker   \n",
       "716221    173503  0451175816            7    Dracula       Bram Stoker   \n",
       "758687    183460  8448700058            9    Dracula       Bram Stoker   \n",
       "759250    183740  0451175816            9    Dracula       Bram Stoker   \n",
       "776903    188010  0140052801            8    Dracula       Bram Stoker   \n",
       "815210    198515  0893757829            7    Dracula       Bram Stoker   \n",
       "843333    204205  0893757829           10    Dracula       Bram Stoker   \n",
       "867504    209817  0451175816           10    Dracula       Bram Stoker   \n",
       "922194    224646  014017186X            8    Dracula       Bram Stoker   \n",
       "926832    225378  0451175816            6    Dracula       Bram Stoker   \n",
       "930178    225902  0812504429            7    Dracula         Books Tor   \n",
       "972897    234803  8481301183            9    Dracula      Bram Stocker   \n",
       "1016060   243360  0812504429            8    Dracula         Books Tor   \n",
       "1046377   250359  0453007864            9    Dracula       Bram Stoker   \n",
       "1078998   258152  0880299010            8    Dracula       Bram Stoker   \n",
       "1105360   265221  0451175816            7    Dracula       Bram Stoker   \n",
       "1113653   266901  0880299010            7    Dracula       Bram Stoker   \n",
       "1140164   274199  0451175816            6    Dracula       Bram Stoker   \n",
       "\n",
       "         year_of_publication                        publisher unique_isbn  \n",
       "46242                 1992.0                      Penguin USA  0140052801  \n",
       "47002                 1997.0                        Tor Books  0140052801  \n",
       "60372                 1992.0                      Penguin USA  0140052801  \n",
       "128150                1983.0                           Bantam  0140052801  \n",
       "142710                1992.0               Barnes Noble Books  0140052801  \n",
       "170978                1998.0      Saddleback Publishing, Inc.  0140052801  \n",
       "197596                1992.0               Barnes Noble Books  0140052801  \n",
       "198491                1992.0        New Amer Library Classics  0140052801  \n",
       "223758                1992.0               Barnes Noble Books  0140052801  \n",
       "242821                1992.0         Penguin Highbridge Audio  0140052801  \n",
       "271738                1997.0                        Tor Books  0140052801  \n",
       "291984                1983.0                           Bantam  0140052801  \n",
       "353393                1992.0                Penguin Books Ltd  0140052801  \n",
       "447213                2001.0       Scholastic Paperbacks (Mm)  0140052801  \n",
       "459003                1992.0                      Penguin USA  0140052801  \n",
       "492307                1993.0  Plaza &amp Janes Editores, S.A.  0140052801  \n",
       "587192                1992.0                Penguin Books Ltd  0140052801  \n",
       "618975                1992.0                      Penguin USA  0140052801  \n",
       "628498                2002.0                  IndyPublish.com  0140052801  \n",
       "676074                1992.0         Penguin Highbridge Audio  0140052801  \n",
       "706425                1992.0        New Amer Library Classics  0140052801  \n",
       "716221                1992.0        New Amer Library Classics  0140052801  \n",
       "758687                1995.0                           Altaya  0140052801  \n",
       "759250                1992.0        New Amer Library Classics  0140052801  \n",
       "776903                1992.0                      Penguin USA  0140052801  \n",
       "815210                1993.0             Troll Communications  0140052801  \n",
       "843333                1993.0             Troll Communications  0140052801  \n",
       "867504                1992.0        New Amer Library Classics  0140052801  \n",
       "922194                1992.0                Penguin Books Ltd  0140052801  \n",
       "926832                1992.0        New Amer Library Classics  0140052801  \n",
       "930178                1990.0                        Tor Books  0140052801  \n",
       "972897                2001.0             Colleccion Millenium  0140052801  \n",
       "1016060               1990.0                        Tor Books  0140052801  \n",
       "1046377               1992.0         Penguin Highbridge Audio  0140052801  \n",
       "1078998               1992.0               Barnes Noble Books  0140052801  \n",
       "1105360               1992.0        New Amer Library Classics  0140052801  \n",
       "1113653               1992.0               Barnes Noble Books  0140052801  \n",
       "1140164               1992.0        New Amer Library Classics  0140052801  "
      ]
     },
     "execution_count": 59,
     "metadata": {},
     "output_type": "execute_result"
    }
   ],
   "source": [
    "books_with_ratings[books_with_ratings.book_title=='Dracula']"
   ]
  },
  {
   "cell_type": "code",
   "execution_count": 60,
   "metadata": {},
   "outputs": [
    {
     "name": "stdout",
     "output_type": "stream",
     "text": [
      "Books+Ratings table size: 433671\n",
      "Users table size: 278858\n",
      "New \"books_users_ratings\" table size: 433671\n"
     ]
    }
   ],
   "source": [
    "# Join User Id\n",
    "print(f'Books+Ratings table size: {len(books_with_ratings)}')\n",
    "print(f'Users table size: {len(users)}')\n",
    "books_users_ratings = books_with_ratings.join(users.set_index('user_id'), on='user_id')\n",
    "print(f'New \"books_users_ratings\" table size: {len(books_users_ratings)}')"
   ]
  },
  {
   "cell_type": "code",
   "execution_count": 61,
   "metadata": {},
   "outputs": [
    {
     "data": {
      "text/html": [
       "<div>\n",
       "<style scoped>\n",
       "    .dataframe tbody tr th:only-of-type {\n",
       "        vertical-align: middle;\n",
       "    }\n",
       "\n",
       "    .dataframe tbody tr th {\n",
       "        vertical-align: top;\n",
       "    }\n",
       "\n",
       "    .dataframe thead th {\n",
       "        text-align: right;\n",
       "    }\n",
       "</style>\n",
       "<table border=\"1\" class=\"dataframe\">\n",
       "  <thead>\n",
       "    <tr style=\"text-align: right;\">\n",
       "      <th></th>\n",
       "      <th>user_id</th>\n",
       "      <th>isbn</th>\n",
       "      <th>book_rating</th>\n",
       "      <th>book_title</th>\n",
       "      <th>book_author</th>\n",
       "      <th>year_of_publication</th>\n",
       "      <th>publisher</th>\n",
       "      <th>unique_isbn</th>\n",
       "      <th>age</th>\n",
       "      <th>city</th>\n",
       "      <th>state</th>\n",
       "      <th>country</th>\n",
       "    </tr>\n",
       "  </thead>\n",
       "  <tbody>\n",
       "    <tr>\n",
       "      <th>1</th>\n",
       "      <td>276726</td>\n",
       "      <td>0155061224</td>\n",
       "      <td>5</td>\n",
       "      <td>Rites of Passage</td>\n",
       "      <td>Judith Rae</td>\n",
       "      <td>2001.0</td>\n",
       "      <td>Heinle</td>\n",
       "      <td>0155061224</td>\n",
       "      <td>NaN</td>\n",
       "      <td>seattle</td>\n",
       "      <td>washington</td>\n",
       "      <td>usa</td>\n",
       "    </tr>\n",
       "    <tr>\n",
       "      <th>3</th>\n",
       "      <td>276729</td>\n",
       "      <td>052165615X</td>\n",
       "      <td>3</td>\n",
       "      <td>Help!: Level 1</td>\n",
       "      <td>Philip Prowse</td>\n",
       "      <td>1999.0</td>\n",
       "      <td>Cambridge University Press</td>\n",
       "      <td>052165615X</td>\n",
       "      <td>16.0</td>\n",
       "      <td>rijeka</td>\n",
       "      <td>n/a</td>\n",
       "      <td>croatia</td>\n",
       "    </tr>\n",
       "    <tr>\n",
       "      <th>4</th>\n",
       "      <td>276729</td>\n",
       "      <td>0521795028</td>\n",
       "      <td>6</td>\n",
       "      <td>The Amsterdam Connection : Level 4 (Cambridge ...</td>\n",
       "      <td>Sue Leather</td>\n",
       "      <td>2001.0</td>\n",
       "      <td>Cambridge University Press</td>\n",
       "      <td>0521795028</td>\n",
       "      <td>16.0</td>\n",
       "      <td>rijeka</td>\n",
       "      <td>n/a</td>\n",
       "      <td>croatia</td>\n",
       "    </tr>\n",
       "    <tr>\n",
       "      <th>6</th>\n",
       "      <td>276736</td>\n",
       "      <td>3257224281</td>\n",
       "      <td>8</td>\n",
       "      <td>NaN</td>\n",
       "      <td>NaN</td>\n",
       "      <td>NaN</td>\n",
       "      <td>NaN</td>\n",
       "      <td>3257224281</td>\n",
       "      <td>NaN</td>\n",
       "      <td>salzburg</td>\n",
       "      <td>salzburg</td>\n",
       "      <td>austria</td>\n",
       "    </tr>\n",
       "    <tr>\n",
       "      <th>7</th>\n",
       "      <td>276737</td>\n",
       "      <td>0600570967</td>\n",
       "      <td>6</td>\n",
       "      <td>NaN</td>\n",
       "      <td>NaN</td>\n",
       "      <td>NaN</td>\n",
       "      <td>NaN</td>\n",
       "      <td>0600570967</td>\n",
       "      <td>14.0</td>\n",
       "      <td>sydney</td>\n",
       "      <td>new south wales</td>\n",
       "      <td>australia</td>\n",
       "    </tr>\n",
       "  </tbody>\n",
       "</table>\n",
       "</div>"
      ],
      "text/plain": [
       "   user_id        isbn  book_rating  \\\n",
       "1   276726  0155061224            5   \n",
       "3   276729  052165615X            3   \n",
       "4   276729  0521795028            6   \n",
       "6   276736  3257224281            8   \n",
       "7   276737  0600570967            6   \n",
       "\n",
       "                                          book_title    book_author  \\\n",
       "1                                   Rites of Passage     Judith Rae   \n",
       "3                                     Help!: Level 1  Philip Prowse   \n",
       "4  The Amsterdam Connection : Level 4 (Cambridge ...    Sue Leather   \n",
       "6                                                NaN            NaN   \n",
       "7                                                NaN            NaN   \n",
       "\n",
       "   year_of_publication                   publisher unique_isbn   age  \\\n",
       "1               2001.0                      Heinle  0155061224   NaN   \n",
       "3               1999.0  Cambridge University Press  052165615X  16.0   \n",
       "4               2001.0  Cambridge University Press  0521795028  16.0   \n",
       "6                  NaN                         NaN  3257224281   NaN   \n",
       "7                  NaN                         NaN  0600570967  14.0   \n",
       "\n",
       "       city             state     country  \n",
       "1   seattle        washington         usa  \n",
       "3    rijeka               n/a     croatia  \n",
       "4    rijeka               n/a     croatia  \n",
       "6  salzburg          salzburg     austria  \n",
       "7    sydney   new south wales   australia  "
      ]
     },
     "execution_count": 61,
     "metadata": {},
     "output_type": "execute_result"
    }
   ],
   "source": [
    "books_users_ratings.head()"
   ]
  },
  {
   "cell_type": "markdown",
   "metadata": {},
   "source": [
    "#### ML starting in this section we will use surprise which exist in python libraries."
   ]
  },
  {
   "cell_type": "code",
   "execution_count": 62,
   "metadata": {},
   "outputs": [
    {
     "data": {
      "text/html": [
       "<div>\n",
       "<style scoped>\n",
       "    .dataframe tbody tr th:only-of-type {\n",
       "        vertical-align: middle;\n",
       "    }\n",
       "\n",
       "    .dataframe tbody tr th {\n",
       "        vertical-align: top;\n",
       "    }\n",
       "\n",
       "    .dataframe thead th {\n",
       "        text-align: right;\n",
       "    }\n",
       "</style>\n",
       "<table border=\"1\" class=\"dataframe\">\n",
       "  <thead>\n",
       "    <tr style=\"text-align: right;\">\n",
       "      <th></th>\n",
       "      <th>user_id</th>\n",
       "      <th>unique_isbn</th>\n",
       "      <th>book_rating</th>\n",
       "    </tr>\n",
       "  </thead>\n",
       "  <tbody>\n",
       "    <tr>\n",
       "      <th>1</th>\n",
       "      <td>276726</td>\n",
       "      <td>0155061224</td>\n",
       "      <td>5</td>\n",
       "    </tr>\n",
       "    <tr>\n",
       "      <th>3</th>\n",
       "      <td>276729</td>\n",
       "      <td>052165615X</td>\n",
       "      <td>3</td>\n",
       "    </tr>\n",
       "    <tr>\n",
       "      <th>4</th>\n",
       "      <td>276729</td>\n",
       "      <td>0521795028</td>\n",
       "      <td>6</td>\n",
       "    </tr>\n",
       "    <tr>\n",
       "      <th>6</th>\n",
       "      <td>276736</td>\n",
       "      <td>3257224281</td>\n",
       "      <td>8</td>\n",
       "    </tr>\n",
       "    <tr>\n",
       "      <th>7</th>\n",
       "      <td>276737</td>\n",
       "      <td>0600570967</td>\n",
       "      <td>6</td>\n",
       "    </tr>\n",
       "  </tbody>\n",
       "</table>\n",
       "</div>"
      ],
      "text/plain": [
       "   user_id unique_isbn  book_rating\n",
       "1   276726  0155061224            5\n",
       "3   276729  052165615X            3\n",
       "4   276729  0521795028            6\n",
       "6   276736  3257224281            8\n",
       "7   276737  0600570967            6"
      ]
     },
     "execution_count": 62,
     "metadata": {},
     "output_type": "execute_result"
    }
   ],
   "source": [
    "user_item_rating = books_users_ratings[['user_id', 'unique_isbn', 'book_rating']]\n",
    "user_item_rating.head()"
   ]
  },
  {
   "cell_type": "code",
   "execution_count": 65,
   "metadata": {},
   "outputs": [],
   "source": [
    "from sklearn import model_selection\n",
    "train_data, test_data = model_selection.train_test_split(user_item_rating, test_size=0.20)"
   ]
  },
  {
   "cell_type": "code",
   "execution_count": 66,
   "metadata": {},
   "outputs": [
    {
     "name": "stdout",
     "output_type": "stream",
     "text": [
      "Training set size: 346936\n",
      "Testing set size: 86735\n",
      "Test set is 20% of the full dataset.\n"
     ]
    }
   ],
   "source": [
    "print(f'Training set size: {len(train_data)}')\n",
    "print(f'Testing set size: {len(test_data)}')\n",
    "print(f'Test set is {(len(test_data)/(len(train_data)+len(test_data))*100):.0f}% of the full dataset.')"
   ]
  },
  {
   "cell_type": "code",
   "execution_count": 67,
   "metadata": {},
   "outputs": [],
   "source": [
    "# Get numeric value"
   ]
  },
  {
   "cell_type": "code",
   "execution_count": 68,
   "metadata": {},
   "outputs": [],
   "source": [
    "### TRAINING SET\n",
    "# Get int mapping for user_id\n",
    "u_unique_train = train_data.user_id.unique()  # create a 'set' (i.e. all unique) list of vals\n",
    "train_data_user2idx = {o:i for i, o in enumerate(u_unique_train)}\n",
    "# Get int mapping for unique_isbn\n",
    "b_unique_train = train_data.unique_isbn.unique()  # create a 'set' (i.e. all unique) list of vals\n",
    "train_data_book2idx = {o:i for i, o in enumerate(b_unique_train)}\n",
    "\n",
    "### TESTING SET\n",
    "# Get int mapping for user_id\n",
    "u_unique_test = test_data.user_id.unique()  # create a 'set' (i.e. all unique) list of vals\n",
    "test_data_user2idx = {o:i for i, o in enumerate(u_unique_test)}\n",
    "# Get int mapping for unique_isbn\n",
    "b_unique_test = test_data.unique_isbn.unique()  # create a 'set' (i.e. all unique) list of vals\n",
    "test_data_book2idx = {o:i for i, o in enumerate(b_unique_test)}"
   ]
  },
  {
   "cell_type": "code",
   "execution_count": 69,
   "metadata": {},
   "outputs": [],
   "source": [
    "### TRAINING SET\n",
    "train_data['u_unique'] = train_data['user_id'].map(train_data_user2idx)\n",
    "train_data['b_unique'] = train_data['unique_isbn'].map(train_data_book2idx)\n",
    "\n",
    "### TESTING SET\n",
    "test_data['u_unique'] = test_data['user_id'].map(test_data_user2idx)\n",
    "test_data['b_unique'] = test_data['unique_isbn'].map(test_data_book2idx)\n",
    "\n",
    "### Convert back to 3-column df\n",
    "train_data = train_data[['u_unique', 'b_unique', 'book_rating']]\n",
    "test_data = test_data[['u_unique', 'b_unique', 'book_rating']]"
   ]
  },
  {
   "cell_type": "code",
   "execution_count": 70,
   "metadata": {},
   "outputs": [
    {
     "data": {
      "text/html": [
       "<div>\n",
       "<style scoped>\n",
       "    .dataframe tbody tr th:only-of-type {\n",
       "        vertical-align: middle;\n",
       "    }\n",
       "\n",
       "    .dataframe tbody tr th {\n",
       "        vertical-align: top;\n",
       "    }\n",
       "\n",
       "    .dataframe thead th {\n",
       "        text-align: right;\n",
       "    }\n",
       "</style>\n",
       "<table border=\"1\" class=\"dataframe\">\n",
       "  <thead>\n",
       "    <tr style=\"text-align: right;\">\n",
       "      <th></th>\n",
       "      <th>u_unique</th>\n",
       "      <th>b_unique</th>\n",
       "      <th>book_rating</th>\n",
       "    </tr>\n",
       "  </thead>\n",
       "  <tbody>\n",
       "    <tr>\n",
       "      <th>753748</th>\n",
       "      <td>7910</td>\n",
       "      <td>8086</td>\n",
       "      <td>8</td>\n",
       "    </tr>\n",
       "    <tr>\n",
       "      <th>1007089</th>\n",
       "      <td>89</td>\n",
       "      <td>16679</td>\n",
       "      <td>9</td>\n",
       "    </tr>\n",
       "    <tr>\n",
       "      <th>627047</th>\n",
       "      <td>7547</td>\n",
       "      <td>1752</td>\n",
       "      <td>7</td>\n",
       "    </tr>\n",
       "    <tr>\n",
       "      <th>71256</th>\n",
       "      <td>7528</td>\n",
       "      <td>3076</td>\n",
       "      <td>8</td>\n",
       "    </tr>\n",
       "    <tr>\n",
       "      <th>810571</th>\n",
       "      <td>21496</td>\n",
       "      <td>5453</td>\n",
       "      <td>10</td>\n",
       "    </tr>\n",
       "  </tbody>\n",
       "</table>\n",
       "</div>"
      ],
      "text/plain": [
       "         u_unique  b_unique  book_rating\n",
       "753748       7910      8086            8\n",
       "1007089        89     16679            9\n",
       "627047       7547      1752            7\n",
       "71256        7528      3076            8\n",
       "810571      21496      5453           10"
      ]
     },
     "execution_count": 70,
     "metadata": {},
     "output_type": "execute_result"
    }
   ],
   "source": [
    "train_data.tail()"
   ]
  },
  {
   "cell_type": "code",
   "execution_count": 71,
   "metadata": {},
   "outputs": [
    {
     "data": {
      "text/plain": [
       "u_unique       int64\n",
       "b_unique       int64\n",
       "book_rating    int64\n",
       "dtype: object"
      ]
     },
     "execution_count": 71,
     "metadata": {},
     "output_type": "execute_result"
    }
   ],
   "source": [
    "train_data.dtypes"
   ]
  },
  {
   "cell_type": "code",
   "execution_count": 72,
   "metadata": {},
   "outputs": [],
   "source": [
    "# First need to create a 'Reader' object to set the scale/limit of the ratings field\n",
    "reader = Reader(rating_scale=(1, 10))\n",
    "\n",
    "# Load the data into a 'Dataset' object directly from the pandas df.\n",
    "# Note: The fields must be in the order: user, item, rating\n",
    "data = Dataset.load_from_df(user_item_rating, reader)"
   ]
  },
  {
   "cell_type": "code",
   "execution_count": 84,
   "metadata": {},
   "outputs": [
    {
     "name": "stdout",
     "output_type": "stream",
     "text": [
      "Evaluating RMSE of algorithm SVD on 5 split(s).\n",
      "\n",
      "                  Fold 1  Fold 2  Fold 3  Fold 4  Fold 5  Mean    Std     \n",
      "RMSE (testset)    1.6409  1.6432  1.6434  1.6359  1.6445  1.6416  0.0031  \n",
      "Fit time          17.65   19.14   19.25   18.93   19.13   18.82   0.59    \n",
      "Test time         0.74    0.66    0.59    0.77    0.86    0.72    0.09    \n",
      "Wall time: 1min 44s\n"
     ]
    },
    {
     "data": {
      "text/plain": [
       "{'test_rmse': array([1.64093846, 1.64324592, 1.64341574, 1.63592481, 1.64447766]),\n",
       " 'fit_time': (17.650952577590942,\n",
       "  19.139767169952393,\n",
       "  19.245507955551147,\n",
       "  18.93345618247986,\n",
       "  19.131989002227783),\n",
       " 'test_time': (0.7388801574707031,\n",
       "  0.6636929512023926,\n",
       "  0.593895673751831,\n",
       "  0.7674379348754883,\n",
       "  0.8571760654449463)}"
      ]
     },
     "execution_count": 84,
     "metadata": {},
     "output_type": "execute_result"
    }
   ],
   "source": [
    "# Load SVD algorithm\n",
    "model = SVD()\n",
    "\n",
    "# Train on books dataset\n",
    "%time model_selection.cross_validate(model, data, measures=['RMSE'], cv=5, verbose=True)"
   ]
  },
  {
   "cell_type": "code",
   "execution_count": 85,
   "metadata": {},
   "outputs": [
    {
     "name": "stdout",
     "output_type": "stream",
     "text": [
      "RMSE: 1.6323\n"
     ]
    },
    {
     "data": {
      "text/plain": [
       "1.632324618289744"
      ]
     },
     "execution_count": 85,
     "metadata": {},
     "output_type": "execute_result"
    }
   ],
   "source": [
    "# set test set to 20%.\n",
    "trainset, testset = model_selection.train_test_split(data, test_size=0.2)\n",
    "\n",
    "# Instantiate the SVD model.\n",
    "model = SVD()\n",
    "\n",
    "# Train the algorithm on the training set, and predict ratings for the test set\n",
    "model.fit(trainset)\n",
    "predictions = model.test(testset)\n",
    "\n",
    "# Then compute RMSE\n",
    "accuracy.rmse(predictions)"
   ]
  },
  {
   "cell_type": "code",
   "execution_count": 100,
   "metadata": {},
   "outputs": [
    {
     "name": "stdout",
     "output_type": "stream",
     "text": [
      "Evaluating RMSE of algorithm NMF on 5 split(s).\n",
      "\n",
      "                  Fold 1  Fold 2  Fold 3  Fold 4  Fold 5  Mean    Std     \n",
      "RMSE (testset)    2.4364  2.4444  2.4354  2.4472  2.4452  2.4417  0.0049  \n",
      "Fit time          34.69   34.52   35.07   34.09   37.28   35.13   1.12    \n",
      "Test time         0.88    0.55    0.48    0.81    0.57    0.66    0.16    \n",
      "Wall time: 3min 5s\n"
     ]
    },
    {
     "data": {
      "text/plain": [
       "{'test_rmse': array([2.43635339, 2.4444026 , 2.43540413, 2.44722084, 2.44518283]),\n",
       " 'fit_time': (34.68669414520264,\n",
       "  34.52223253250122,\n",
       "  35.0736939907074,\n",
       "  34.09314489364624,\n",
       "  37.27874994277954),\n",
       " 'test_time': (0.8756451606750488,\n",
       "  0.5467288494110107,\n",
       "  0.476485013961792,\n",
       "  0.8079111576080322,\n",
       "  0.5727927684783936)}"
      ]
     },
     "execution_count": 100,
     "metadata": {},
     "output_type": "execute_result"
    }
   ],
   "source": [
    "# Load NMF algorithm\n",
    "model = NMF()\n",
    "# Train on books dataset\n",
    "%time model_selection.cross_validate(model, data, measures=['RMSE'], cv=5, verbose=True)"
   ]
  },
  {
   "cell_type": "code",
   "execution_count": 109,
   "metadata": {},
   "outputs": [
    {
     "name": "stdout",
     "output_type": "stream",
     "text": [
      "RMSE: 1.6389\n"
     ]
    },
    {
     "data": {
      "text/plain": [
       "1.6389133594002177"
      ]
     },
     "execution_count": 109,
     "metadata": {},
     "output_type": "execute_result"
    }
   ],
   "source": [
    "# set test set to 20%.\n",
    "trainset, testset = model_selection.train_test_split(data, test_size=0.2)\n",
    "\n",
    "# Instantiate the SVD model.\n",
    "model = SVD()\n",
    "\n",
    "# Train the algorithm on the training set, and predict ratings for the test set\n",
    "model.fit(trainset)\n",
    "predictions = model.test(testset)\n",
    "\n",
    "# Then compute RMSE\n",
    "accuracy.rmse(predictions)"
   ]
  },
  {
   "cell_type": "code",
   "execution_count": 120,
   "metadata": {},
   "outputs": [
    {
     "name": "stdout",
     "output_type": "stream",
     "text": [
      "user: 276737     item: 0600570967 r_ui = None   est = 7.07   {'was_impossible': False}\n"
     ]
    }
   ],
   "source": [
    "# get a prediction for specific users and items.\n",
    "uid = 276737  # the user_id int\n",
    "iid = '0600570967' # the unique_isbn string\n",
    "# This pair has an actual rating of 7!\n",
    "\n",
    "pred = model.predict(uid, iid, verbose=True)"
   ]
  },
  {
   "cell_type": "code",
   "execution_count": 121,
   "metadata": {},
   "outputs": [
    {
     "name": "stdout",
     "output_type": "stream",
     "text": [
      "The estimated rating for the book with the \"unique_isbn\" code 0600570967 from user #276737 is 7.07.\n",
      "\n",
      "The real rating given for this was 6.00.\n"
     ]
    }
   ],
   "source": [
    "print(f'The estimated rating for the book with the \"unique_isbn\" code {pred.iid} from user #{pred.uid} is {pred.est:.2f}.\\n')\n",
    "actual_rtg = user_item_rating[(user_item_rating.user_id==pred.uid) & (user_item_rating.unique_isbn==pred.iid)].book_rating.values[0]\n",
    "print(f'The real rating given for this was {actual_rtg:.2f}.')"
   ]
  },
  {
   "cell_type": "code",
   "execution_count": 112,
   "metadata": {},
   "outputs": [
    {
     "name": "stdout",
     "output_type": "stream",
     "text": [
      "user: 95095      item: 0140079963 r_ui = None   est = 6.87   {'was_impossible': False}\n"
     ]
    }
   ],
   "source": [
    "# get a prediction for specific users and items.\n",
    "uid = 95095  # the user_id int\n",
    "iid = '0140079963' # the unique_isbn string\n",
    "# This pair has an actual rating of 6.0!\n",
    "\n",
    "pred = model.predict(uid, iid, verbose=True)"
   ]
  },
  {
   "cell_type": "code",
   "execution_count": 113,
   "metadata": {},
   "outputs": [
    {
     "name": "stdout",
     "output_type": "stream",
     "text": [
      "The estimated rating for the book with the \"unique_isbn\" code 0140079963 from user #95095 is 6.87.\n",
      "\n",
      "The real rating given for this was 6.00.\n"
     ]
    }
   ],
   "source": [
    "print(f'The estimated rating for the book with the \"unique_isbn\" code {pred.iid} from user #{pred.uid} is {pred.est:.2f}.\\n')\n",
    "actual_rtg = user_item_rating[(user_item_rating.user_id==pred.uid) & (user_item_rating.unique_isbn==pred.iid)].book_rating.values[0]\n",
    "print(f'The real rating given for this was {actual_rtg:.2f}.')"
   ]
  },
  {
   "cell_type": "code",
   "execution_count": 127,
   "metadata": {},
   "outputs": [],
   "source": [
    "from collections import defaultdict\n",
    "\n",
    "def get_top_n(predictions, n=10):\n",
    "\n",
    "    # First map the predictions to each user.\n",
    "    top_n = defaultdict(list)\n",
    "    for uid, iid, true_r, est, _ in predictions:\n",
    "        top_n[uid].append((iid, est))\n",
    "\n",
    "    # Then sort the predictions for each user and retrieve the k highest ones.\n",
    "    for uid, user_ratings in top_n.items():\n",
    "        user_ratings.sort(key=lambda x: x[1], reverse=True)\n",
    "        top_n[uid] = user_ratings[:n]\n",
    "        \n",
    "    return top_n"
   ]
  },
  {
   "cell_type": "code",
   "execution_count": 128,
   "metadata": {},
   "outputs": [],
   "source": [
    "pred = model.test(testset)\n",
    "top_n = get_top_n(pred)\n"
   ]
  },
  {
   "cell_type": "code",
   "execution_count": 129,
   "metadata": {},
   "outputs": [],
   "source": [
    "def get_reading_list(userid):\n",
    "\n",
    "    reading_list = defaultdict(list)\n",
    "    top_n = get_top_n(predictions, n=10)\n",
    "    for n in top_n[userid]:\n",
    "        book, rating = n\n",
    "        title = books_users_ratings.loc[books_users_ratings.unique_isbn==book].book_title.unique()[0]\n",
    "        reading_list[title] = rating\n",
    "    return reading_list"
   ]
  },
  {
   "cell_type": "code",
   "execution_count": 133,
   "metadata": {},
   "outputs": [
    {
     "name": "stdout",
     "output_type": "stream",
     "text": [
      "Dubliners: 10\n",
      "Nicomachean Ethics: 10\n",
      "Crime and Punishment (Penguin Classics): 10\n",
      "The Art of War: 10\n",
      "Mules and Men: 10\n",
      "Dune (Remembering Tomorrow): 10\n",
      "Relativity: The Special and the General Theory: 9.873013458314663\n",
      "The Spirit Catches You and You Fall Down: 9.853710115851804\n",
      "Go Tell It on the Mountain: 9.82257521540612\n",
      "Junky: 9.776910890441542\n"
     ]
    }
   ],
   "source": [
    "# Just take a random look at user_id=76499\n",
    "example_reading_list = get_reading_list(userid=76499)\n",
    "for book, rating in example_reading_list.items():\n",
    "    print(f'{book}: {rating}')"
   ]
  }
 ],
 "metadata": {
  "kernelspec": {
   "display_name": "Python 3",
   "language": "python",
   "name": "python3"
  },
  "language_info": {
   "codemirror_mode": {
    "name": "ipython",
    "version": 3
   },
   "file_extension": ".py",
   "mimetype": "text/x-python",
   "name": "python",
   "nbconvert_exporter": "python",
   "pygments_lexer": "ipython3",
   "version": "3.8.3"
  }
 },
 "nbformat": 4,
 "nbformat_minor": 4
}
